{
 "cells": [
  {
   "cell_type": "code",
   "execution_count": null,
   "id": "6lZ60-u2x6qp",
   "metadata": {
    "id": "6lZ60-u2x6qp"
   },
   "outputs": [],
   "source": [
    "import pandas as pd\n",
    "import numpy as np\n",
    "import matplotlib.pyplot as plt\n",
    "\n",
    "from statsmodels.tsa.seasonal import seasonal_decompose\n",
    "\n",
    "def mean_absolute_percentage_error(y_true, y_pred): \n",
    "    return np.mean(np.abs((y_true - y_pred) / y_true))\n"
   ]
  },
  {
   "cell_type": "code",
   "execution_count": null,
   "id": "UrpdK2Wkx6qu",
   "metadata": {
    "id": "UrpdK2Wkx6qu"
   },
   "outputs": [],
   "source": [
    "import xgboost as xgb\n",
    "#from xgboost import plot_importance, plot_tree\n",
    "from sklearn.metrics import mean_squared_error, mean_absolute_error"
   ]
  },
  {
   "cell_type": "code",
   "execution_count": null,
   "id": "JjOstu48x6qx",
   "metadata": {
    "id": "JjOstu48x6qx"
   },
   "outputs": [],
   "source": [
    "df_GPU=pd.read_csv('FACT_GPU_PRICE.csv')\n",
    "df_GPU['Date']=pd.to_datetime(df_GPU['TimeId'].astype(str), format=\"%Y%m%d\")\n",
    "df_GPU.set_index('Date', inplace=True)\n",
    "\n",
    "df=df_GPU[df_GPU['ProdId']==1047]['Price_USD'].groupby('Date').mean()\n",
    "#df_NVidia\n",
    "df=df.iloc[3:]\n",
    "df.reindex(pd.date_range('2016-06-10', '2018-03-16',freq='D'))\n",
    "\n",
    "df=df.asfreq('D')\n",
    "df.fillna(method='ffill', inplace=True)\n",
    "df=pd.DataFrame(df)"
   ]
  },
  {
   "cell_type": "code",
   "execution_count": null,
   "id": "GU5htn6Px6q0",
   "metadata": {
    "id": "GU5htn6Px6q0",
    "outputId": "f76dfac7-e3b9-4a02-ea37-3459d8443ac5"
   },
   "outputs": [
    {
     "data": {
      "text/html": [
       "<div>\n",
       "<style scoped>\n",
       "    .dataframe tbody tr th:only-of-type {\n",
       "        vertical-align: middle;\n",
       "    }\n",
       "\n",
       "    .dataframe tbody tr th {\n",
       "        vertical-align: top;\n",
       "    }\n",
       "\n",
       "    .dataframe thead th {\n",
       "        text-align: right;\n",
       "    }\n",
       "</style>\n",
       "<table border=\"1\" class=\"dataframe\">\n",
       "  <thead>\n",
       "    <tr style=\"text-align: right;\">\n",
       "      <th></th>\n",
       "      <th>Close</th>\n",
       "    </tr>\n",
       "  </thead>\n",
       "  <tbody>\n",
       "    <tr>\n",
       "      <th>2016-06-10</th>\n",
       "      <td>13.91</td>\n",
       "    </tr>\n",
       "    <tr>\n",
       "      <th>2016-06-11</th>\n",
       "      <td>14.19</td>\n",
       "    </tr>\n",
       "    <tr>\n",
       "      <th>2016-06-12</th>\n",
       "      <td>15.74</td>\n",
       "    </tr>\n",
       "    <tr>\n",
       "      <th>2016-06-13</th>\n",
       "      <td>17.60</td>\n",
       "    </tr>\n",
       "    <tr>\n",
       "      <th>2016-06-14</th>\n",
       "      <td>18.89</td>\n",
       "    </tr>\n",
       "    <tr>\n",
       "      <th>...</th>\n",
       "      <td>...</td>\n",
       "    </tr>\n",
       "    <tr>\n",
       "      <th>2018-03-12</th>\n",
       "      <td>699.83</td>\n",
       "    </tr>\n",
       "    <tr>\n",
       "      <th>2018-03-13</th>\n",
       "      <td>690.83</td>\n",
       "    </tr>\n",
       "    <tr>\n",
       "      <th>2018-03-14</th>\n",
       "      <td>614.29</td>\n",
       "    </tr>\n",
       "    <tr>\n",
       "      <th>2018-03-15</th>\n",
       "      <td>611.30</td>\n",
       "    </tr>\n",
       "    <tr>\n",
       "      <th>2018-03-16</th>\n",
       "      <td>601.67</td>\n",
       "    </tr>\n",
       "  </tbody>\n",
       "</table>\n",
       "<p>645 rows × 1 columns</p>\n",
       "</div>"
      ],
      "text/plain": [
       "             Close\n",
       "2016-06-10   13.91\n",
       "2016-06-11   14.19\n",
       "2016-06-12   15.74\n",
       "2016-06-13   17.60\n",
       "2016-06-14   18.89\n",
       "...            ...\n",
       "2018-03-12  699.83\n",
       "2018-03-13  690.83\n",
       "2018-03-14  614.29\n",
       "2018-03-15  611.30\n",
       "2018-03-16  601.67\n",
       "\n",
       "[645 rows x 1 columns]"
      ]
     },
     "execution_count": 4,
     "metadata": {},
     "output_type": "execute_result"
    }
   ],
   "source": [
    "# Crypto - Ethereum\n",
    "df_Crypto=pd.read_csv('FACT_CRYPTO_RATE.csv')\n",
    "df_Crypto=df_Crypto[df_Crypto['CodeId']==6]\n",
    "df_Crypto['Date']=pd.to_datetime(df_Crypto['TimeId'].astype(str), format=\"%Y%m%d\")\n",
    "df_Crypto.set_index('Date', inplace=True)\n",
    "df_Crypto=df_Crypto.reindex(pd.date_range('2015-08-31', '2018-04-13'))\n",
    "df_Crypto=df_Crypto['Close'].iloc[:-len(pd.date_range('2018-03-17','2018-04-13'))]\n",
    "df_Crypto=pd.DataFrame(df_Crypto.iloc[-len(df):])\n",
    "df_Crypto"
   ]
  },
  {
   "cell_type": "code",
   "execution_count": null,
   "id": "PVIsjs7xx6q5",
   "metadata": {
    "id": "PVIsjs7xx6q5",
    "outputId": "0512aee4-389e-4767-e38e-6b2ec750589b"
   },
   "outputs": [
    {
     "data": {
      "text/plain": [
       "<AxesSubplot:xlabel='Date'>"
      ]
     },
     "execution_count": 5,
     "metadata": {},
     "output_type": "execute_result"
    },
    {
     "data": {
      "image/png": "[encoded data removed]",
      "text/plain": [
       "<Figure size 432x288 with 1 Axes>"
      ]
     },
     "metadata": {
      "needs_background": "light"
     },
     "output_type": "display_data"
    }
   ],
   "source": [
    "df.plot()"
   ]
  },
  {
   "cell_type": "code",
   "execution_count": null,
   "id": "Be2s9B6tx6q6",
   "metadata": {
    "id": "Be2s9B6tx6q6"
   },
   "outputs": [],
   "source": [
    "df1=df.diff().dropna()"
   ]
  },
  {
   "cell_type": "code",
   "execution_count": null,
   "id": "yWaWTz0dx6q7",
   "metadata": {
    "id": "yWaWTz0dx6q7",
    "outputId": "4be9773f-d1ed-4a73-b755-766c91f1c7f4"
   },
   "outputs": [
    {
     "data": {
      "text/plain": [
       "<AxesSubplot:xlabel='Date'>"
      ]
     },
     "execution_count": 7,
     "metadata": {},
     "output_type": "execute_result"
    },
    {
     "data": {
      "image/png": "[encoded data removed]",
      "text/plain": [
       "<Figure size 432x288 with 1 Axes>"
      ]
     },
     "metadata": {
      "needs_background": "light"
     },
     "output_type": "display_data"
    }
   ],
   "source": [
    "df1.plot()"
   ]
  },
  {
   "cell_type": "code",
   "execution_count": null,
   "id": "IHa2b_ZEx6q7",
   "metadata": {
    "id": "IHa2b_ZEx6q7",
    "outputId": "a6b40303-1497-4460-ecac-0be2357d3e0c"
   },
   "outputs": [
    {
     "name": "stdout",
     "output_type": "stream",
     "text": [
      "7\n",
      "6\n",
      "5\n",
      "4\n",
      "3\n",
      "2\n",
      "1\n"
     ]
    }
   ],
   "source": [
    "n_shifts=7\n",
    "df1['eth-7']=df_Crypto['Close'].diff().shift(7)\n",
    "df1['eth-1']=df_Crypto['Close'].diff().shift(1)\n",
    "for i in range(n_shifts,0,-1):\n",
    "    print(i)\n",
    "    df1['t- ' + str(i)]=df1['Price_USD'].shift(i)"
   ]
  },
  {
   "cell_type": "code",
   "execution_count": null,
   "id": "461O_qZtx6q8",
   "metadata": {
    "id": "461O_qZtx6q8",
    "outputId": "b3a3592d-fcae-4808-90ad-da4abddffd5d"
   },
   "outputs": [
    {
     "data": {
      "text/html": [
       "<div>\n",
       "<style scoped>\n",
       "    .dataframe tbody tr th:only-of-type {\n",
       "        vertical-align: middle;\n",
       "    }\n",
       "\n",
       "    .dataframe tbody tr th {\n",
       "        vertical-align: top;\n",
       "    }\n",
       "\n",
       "    .dataframe thead th {\n",
       "        text-align: right;\n",
       "    }\n",
       "</style>\n",
       "<table border=\"1\" class=\"dataframe\">\n",
       "  <thead>\n",
       "    <tr style=\"text-align: right;\">\n",
       "      <th></th>\n",
       "      <th>Price_USD</th>\n",
       "      <th>eth-7</th>\n",
       "      <th>eth-1</th>\n",
       "      <th>t- 7</th>\n",
       "      <th>t- 6</th>\n",
       "      <th>t- 5</th>\n",
       "      <th>t- 4</th>\n",
       "      <th>t- 3</th>\n",
       "      <th>t- 2</th>\n",
       "      <th>t- 1</th>\n",
       "    </tr>\n",
       "    <tr>\n",
       "      <th>Date</th>\n",
       "      <th></th>\n",
       "      <th></th>\n",
       "      <th></th>\n",
       "      <th></th>\n",
       "      <th></th>\n",
       "      <th></th>\n",
       "      <th></th>\n",
       "      <th></th>\n",
       "      <th></th>\n",
       "      <th></th>\n",
       "    </tr>\n",
       "  </thead>\n",
       "  <tbody>\n",
       "    <tr>\n",
       "      <th>2016-06-11</th>\n",
       "      <td>-34.211651</td>\n",
       "      <td>NaN</td>\n",
       "      <td>NaN</td>\n",
       "      <td>NaN</td>\n",
       "      <td>NaN</td>\n",
       "      <td>NaN</td>\n",
       "      <td>NaN</td>\n",
       "      <td>NaN</td>\n",
       "      <td>NaN</td>\n",
       "      <td>NaN</td>\n",
       "    </tr>\n",
       "    <tr>\n",
       "      <th>2016-06-12</th>\n",
       "      <td>13.908655</td>\n",
       "      <td>NaN</td>\n",
       "      <td>0.28</td>\n",
       "      <td>NaN</td>\n",
       "      <td>NaN</td>\n",
       "      <td>NaN</td>\n",
       "      <td>NaN</td>\n",
       "      <td>NaN</td>\n",
       "      <td>NaN</td>\n",
       "      <td>-34.211651</td>\n",
       "    </tr>\n",
       "    <tr>\n",
       "      <th>2016-06-13</th>\n",
       "      <td>-60.458302</td>\n",
       "      <td>NaN</td>\n",
       "      <td>1.55</td>\n",
       "      <td>NaN</td>\n",
       "      <td>NaN</td>\n",
       "      <td>NaN</td>\n",
       "      <td>NaN</td>\n",
       "      <td>NaN</td>\n",
       "      <td>-34.211651</td>\n",
       "      <td>13.908655</td>\n",
       "    </tr>\n",
       "    <tr>\n",
       "      <th>2016-06-14</th>\n",
       "      <td>19.756014</td>\n",
       "      <td>NaN</td>\n",
       "      <td>1.86</td>\n",
       "      <td>NaN</td>\n",
       "      <td>NaN</td>\n",
       "      <td>NaN</td>\n",
       "      <td>NaN</td>\n",
       "      <td>-34.211651</td>\n",
       "      <td>13.908655</td>\n",
       "      <td>-60.458302</td>\n",
       "    </tr>\n",
       "    <tr>\n",
       "      <th>2016-06-15</th>\n",
       "      <td>60.740151</td>\n",
       "      <td>NaN</td>\n",
       "      <td>1.29</td>\n",
       "      <td>NaN</td>\n",
       "      <td>NaN</td>\n",
       "      <td>NaN</td>\n",
       "      <td>-34.211651</td>\n",
       "      <td>13.908655</td>\n",
       "      <td>-60.458302</td>\n",
       "      <td>19.756014</td>\n",
       "    </tr>\n",
       "    <tr>\n",
       "      <th>...</th>\n",
       "      <td>...</td>\n",
       "      <td>...</td>\n",
       "      <td>...</td>\n",
       "      <td>...</td>\n",
       "      <td>...</td>\n",
       "      <td>...</td>\n",
       "      <td>...</td>\n",
       "      <td>...</td>\n",
       "      <td>...</td>\n",
       "      <td>...</td>\n",
       "    </tr>\n",
       "    <tr>\n",
       "      <th>2018-03-12</th>\n",
       "      <td>0.572977</td>\n",
       "      <td>-13.00</td>\n",
       "      <td>36.45</td>\n",
       "      <td>6.669438</td>\n",
       "      <td>47.132080</td>\n",
       "      <td>-4.444620</td>\n",
       "      <td>-30.705982</td>\n",
       "      <td>0.594386</td>\n",
       "      <td>-15.693388</td>\n",
       "      <td>-9.549022</td>\n",
       "    </tr>\n",
       "    <tr>\n",
       "      <th>2018-03-13</th>\n",
       "      <td>96.214574</td>\n",
       "      <td>-36.73</td>\n",
       "      <td>-23.51</td>\n",
       "      <td>47.132080</td>\n",
       "      <td>-4.444620</td>\n",
       "      <td>-30.705982</td>\n",
       "      <td>0.594386</td>\n",
       "      <td>-15.693388</td>\n",
       "      <td>-9.549022</td>\n",
       "      <td>0.572977</td>\n",
       "    </tr>\n",
       "    <tr>\n",
       "      <th>2018-03-14</th>\n",
       "      <td>-71.358926</td>\n",
       "      <td>-64.12</td>\n",
       "      <td>-9.00</td>\n",
       "      <td>-4.444620</td>\n",
       "      <td>-30.705982</td>\n",
       "      <td>0.594386</td>\n",
       "      <td>-15.693388</td>\n",
       "      <td>-9.549022</td>\n",
       "      <td>0.572977</td>\n",
       "      <td>96.214574</td>\n",
       "    </tr>\n",
       "    <tr>\n",
       "      <th>2018-03-15</th>\n",
       "      <td>-10.524085</td>\n",
       "      <td>-48.23</td>\n",
       "      <td>-76.54</td>\n",
       "      <td>-30.705982</td>\n",
       "      <td>0.594386</td>\n",
       "      <td>-15.693388</td>\n",
       "      <td>-9.549022</td>\n",
       "      <td>0.572977</td>\n",
       "      <td>96.214574</td>\n",
       "      <td>-71.358926</td>\n",
       "    </tr>\n",
       "    <tr>\n",
       "      <th>2018-03-16</th>\n",
       "      <td>-1.589636</td>\n",
       "      <td>24.32</td>\n",
       "      <td>-2.99</td>\n",
       "      <td>0.594386</td>\n",
       "      <td>-15.693388</td>\n",
       "      <td>-9.549022</td>\n",
       "      <td>0.572977</td>\n",
       "      <td>96.214574</td>\n",
       "      <td>-71.358926</td>\n",
       "      <td>-10.524085</td>\n",
       "    </tr>\n",
       "  </tbody>\n",
       "</table>\n",
       "<p>644 rows × 10 columns</p>\n",
       "</div>"
      ],
      "text/plain": [
       "            Price_USD  eth-7  eth-1       t- 7       t- 6       t- 5  \\\n",
       "Date                                                                   \n",
       "2016-06-11 -34.211651    NaN    NaN        NaN        NaN        NaN   \n",
       "2016-06-12  13.908655    NaN   0.28        NaN        NaN        NaN   \n",
       "2016-06-13 -60.458302    NaN   1.55        NaN        NaN        NaN   \n",
       "2016-06-14  19.756014    NaN   1.86        NaN        NaN        NaN   \n",
       "2016-06-15  60.740151    NaN   1.29        NaN        NaN        NaN   \n",
       "...               ...    ...    ...        ...        ...        ...   \n",
       "2018-03-12   0.572977 -13.00  36.45   6.669438  47.132080  -4.444620   \n",
       "2018-03-13  96.214574 -36.73 -23.51  47.132080  -4.444620 -30.705982   \n",
       "2018-03-14 -71.358926 -64.12  -9.00  -4.444620 -30.705982   0.594386   \n",
       "2018-03-15 -10.524085 -48.23 -76.54 -30.705982   0.594386 -15.693388   \n",
       "2018-03-16  -1.589636  24.32  -2.99   0.594386 -15.693388  -9.549022   \n",
       "\n",
       "                 t- 4       t- 3       t- 2       t- 1  \n",
       "Date                                                    \n",
       "2016-06-11        NaN        NaN        NaN        NaN  \n",
       "2016-06-12        NaN        NaN        NaN -34.211651  \n",
       "2016-06-13        NaN        NaN -34.211651  13.908655  \n",
       "2016-06-14        NaN -34.211651  13.908655 -60.458302  \n",
       "2016-06-15 -34.211651  13.908655 -60.458302  19.756014  \n",
       "...               ...        ...        ...        ...  \n",
       "2018-03-12 -30.705982   0.594386 -15.693388  -9.549022  \n",
       "2018-03-13   0.594386 -15.693388  -9.549022   0.572977  \n",
       "2018-03-14 -15.693388  -9.549022   0.572977  96.214574  \n",
       "2018-03-15  -9.549022   0.572977  96.214574 -71.358926  \n",
       "2018-03-16   0.572977  96.214574 -71.358926 -10.524085  \n",
       "\n",
       "[644 rows x 10 columns]"
      ]
     },
     "execution_count": 9,
     "metadata": {},
     "output_type": "execute_result"
    }
   ],
   "source": [
    "df1"
   ]
  },
  {
   "cell_type": "code",
   "execution_count": null,
   "id": "MKtTzJEpx6q9",
   "metadata": {
    "id": "MKtTzJEpx6q9"
   },
   "outputs": [],
   "source": [
    "df1.dropna(inplace=True)"
   ]
  },
  {
   "cell_type": "code",
   "execution_count": null,
   "id": "twF-LA09x6q-",
   "metadata": {
    "id": "twF-LA09x6q-",
    "outputId": "35e4f59c-43c1-43f2-ee0c-1c8ee21ef435"
   },
   "outputs": [
    {
     "data": {
      "text/html": [
       "<div>\n",
       "<style scoped>\n",
       "    .dataframe tbody tr th:only-of-type {\n",
       "        vertical-align: middle;\n",
       "    }\n",
       "\n",
       "    .dataframe tbody tr th {\n",
       "        vertical-align: top;\n",
       "    }\n",
       "\n",
       "    .dataframe thead th {\n",
       "        text-align: right;\n",
       "    }\n",
       "</style>\n",
       "<table border=\"1\" class=\"dataframe\">\n",
       "  <thead>\n",
       "    <tr style=\"text-align: right;\">\n",
       "      <th></th>\n",
       "      <th>Price_USD</th>\n",
       "      <th>eth-7</th>\n",
       "      <th>eth-1</th>\n",
       "      <th>t- 7</th>\n",
       "      <th>t- 6</th>\n",
       "      <th>t- 5</th>\n",
       "      <th>t- 4</th>\n",
       "      <th>t- 3</th>\n",
       "      <th>t- 2</th>\n",
       "      <th>t- 1</th>\n",
       "    </tr>\n",
       "    <tr>\n",
       "      <th>Date</th>\n",
       "      <th></th>\n",
       "      <th></th>\n",
       "      <th></th>\n",
       "      <th></th>\n",
       "      <th></th>\n",
       "      <th></th>\n",
       "      <th></th>\n",
       "      <th></th>\n",
       "      <th></th>\n",
       "      <th></th>\n",
       "    </tr>\n",
       "  </thead>\n",
       "  <tbody>\n",
       "    <tr>\n",
       "      <th>2016-06-18</th>\n",
       "      <td>-23.961696</td>\n",
       "      <td>0.28</td>\n",
       "      <td>-5.21</td>\n",
       "      <td>-34.211651</td>\n",
       "      <td>13.908655</td>\n",
       "      <td>-60.458302</td>\n",
       "      <td>19.756014</td>\n",
       "      <td>60.740151</td>\n",
       "      <td>-3.854464</td>\n",
       "      <td>-34.599369</td>\n",
       "    </tr>\n",
       "    <tr>\n",
       "      <th>2016-06-19</th>\n",
       "      <td>71.212684</td>\n",
       "      <td>1.55</td>\n",
       "      <td>-4.05</td>\n",
       "      <td>13.908655</td>\n",
       "      <td>-60.458302</td>\n",
       "      <td>19.756014</td>\n",
       "      <td>60.740151</td>\n",
       "      <td>-3.854464</td>\n",
       "      <td>-34.599369</td>\n",
       "      <td>-23.961696</td>\n",
       "    </tr>\n",
       "    <tr>\n",
       "      <th>2016-06-20</th>\n",
       "      <td>-64.022050</td>\n",
       "      <td>1.86</td>\n",
       "      <td>0.90</td>\n",
       "      <td>-60.458302</td>\n",
       "      <td>19.756014</td>\n",
       "      <td>60.740151</td>\n",
       "      <td>-3.854464</td>\n",
       "      <td>-34.599369</td>\n",
       "      <td>-23.961696</td>\n",
       "      <td>71.212684</td>\n",
       "    </tr>\n",
       "    <tr>\n",
       "      <th>2016-06-21</th>\n",
       "      <td>-17.633596</td>\n",
       "      <td>1.29</td>\n",
       "      <td>-0.39</td>\n",
       "      <td>19.756014</td>\n",
       "      <td>60.740151</td>\n",
       "      <td>-3.854464</td>\n",
       "      <td>-34.599369</td>\n",
       "      <td>-23.961696</td>\n",
       "      <td>71.212684</td>\n",
       "      <td>-64.022050</td>\n",
       "    </tr>\n",
       "    <tr>\n",
       "      <th>2016-06-22</th>\n",
       "      <td>273.864215</td>\n",
       "      <td>-0.54</td>\n",
       "      <td>1.47</td>\n",
       "      <td>60.740151</td>\n",
       "      <td>-3.854464</td>\n",
       "      <td>-34.599369</td>\n",
       "      <td>-23.961696</td>\n",
       "      <td>71.212684</td>\n",
       "      <td>-64.022050</td>\n",
       "      <td>-17.633596</td>\n",
       "    </tr>\n",
       "    <tr>\n",
       "      <th>...</th>\n",
       "      <td>...</td>\n",
       "      <td>...</td>\n",
       "      <td>...</td>\n",
       "      <td>...</td>\n",
       "      <td>...</td>\n",
       "      <td>...</td>\n",
       "      <td>...</td>\n",
       "      <td>...</td>\n",
       "      <td>...</td>\n",
       "      <td>...</td>\n",
       "    </tr>\n",
       "    <tr>\n",
       "      <th>2018-03-12</th>\n",
       "      <td>0.572977</td>\n",
       "      <td>-13.00</td>\n",
       "      <td>36.45</td>\n",
       "      <td>6.669438</td>\n",
       "      <td>47.132080</td>\n",
       "      <td>-4.444620</td>\n",
       "      <td>-30.705982</td>\n",
       "      <td>0.594386</td>\n",
       "      <td>-15.693388</td>\n",
       "      <td>-9.549022</td>\n",
       "    </tr>\n",
       "    <tr>\n",
       "      <th>2018-03-13</th>\n",
       "      <td>96.214574</td>\n",
       "      <td>-36.73</td>\n",
       "      <td>-23.51</td>\n",
       "      <td>47.132080</td>\n",
       "      <td>-4.444620</td>\n",
       "      <td>-30.705982</td>\n",
       "      <td>0.594386</td>\n",
       "      <td>-15.693388</td>\n",
       "      <td>-9.549022</td>\n",
       "      <td>0.572977</td>\n",
       "    </tr>\n",
       "    <tr>\n",
       "      <th>2018-03-14</th>\n",
       "      <td>-71.358926</td>\n",
       "      <td>-64.12</td>\n",
       "      <td>-9.00</td>\n",
       "      <td>-4.444620</td>\n",
       "      <td>-30.705982</td>\n",
       "      <td>0.594386</td>\n",
       "      <td>-15.693388</td>\n",
       "      <td>-9.549022</td>\n",
       "      <td>0.572977</td>\n",
       "      <td>96.214574</td>\n",
       "    </tr>\n",
       "    <tr>\n",
       "      <th>2018-03-15</th>\n",
       "      <td>-10.524085</td>\n",
       "      <td>-48.23</td>\n",
       "      <td>-76.54</td>\n",
       "      <td>-30.705982</td>\n",
       "      <td>0.594386</td>\n",
       "      <td>-15.693388</td>\n",
       "      <td>-9.549022</td>\n",
       "      <td>0.572977</td>\n",
       "      <td>96.214574</td>\n",
       "      <td>-71.358926</td>\n",
       "    </tr>\n",
       "    <tr>\n",
       "      <th>2018-03-16</th>\n",
       "      <td>-1.589636</td>\n",
       "      <td>24.32</td>\n",
       "      <td>-2.99</td>\n",
       "      <td>0.594386</td>\n",
       "      <td>-15.693388</td>\n",
       "      <td>-9.549022</td>\n",
       "      <td>0.572977</td>\n",
       "      <td>96.214574</td>\n",
       "      <td>-71.358926</td>\n",
       "      <td>-10.524085</td>\n",
       "    </tr>\n",
       "  </tbody>\n",
       "</table>\n",
       "<p>637 rows × 10 columns</p>\n",
       "</div>"
      ],
      "text/plain": [
       "             Price_USD  eth-7  eth-1       t- 7       t- 6       t- 5  \\\n",
       "Date                                                                    \n",
       "2016-06-18  -23.961696   0.28  -5.21 -34.211651  13.908655 -60.458302   \n",
       "2016-06-19   71.212684   1.55  -4.05  13.908655 -60.458302  19.756014   \n",
       "2016-06-20  -64.022050   1.86   0.90 -60.458302  19.756014  60.740151   \n",
       "2016-06-21  -17.633596   1.29  -0.39  19.756014  60.740151  -3.854464   \n",
       "2016-06-22  273.864215  -0.54   1.47  60.740151  -3.854464 -34.599369   \n",
       "...                ...    ...    ...        ...        ...        ...   \n",
       "2018-03-12    0.572977 -13.00  36.45   6.669438  47.132080  -4.444620   \n",
       "2018-03-13   96.214574 -36.73 -23.51  47.132080  -4.444620 -30.705982   \n",
       "2018-03-14  -71.358926 -64.12  -9.00  -4.444620 -30.705982   0.594386   \n",
       "2018-03-15  -10.524085 -48.23 -76.54 -30.705982   0.594386 -15.693388   \n",
       "2018-03-16   -1.589636  24.32  -2.99   0.594386 -15.693388  -9.549022   \n",
       "\n",
       "                 t- 4       t- 3       t- 2       t- 1  \n",
       "Date                                                    \n",
       "2016-06-18  19.756014  60.740151  -3.854464 -34.599369  \n",
       "2016-06-19  60.740151  -3.854464 -34.599369 -23.961696  \n",
       "2016-06-20  -3.854464 -34.599369 -23.961696  71.212684  \n",
       "2016-06-21 -34.599369 -23.961696  71.212684 -64.022050  \n",
       "2016-06-22 -23.961696  71.212684 -64.022050 -17.633596  \n",
       "...               ...        ...        ...        ...  \n",
       "2018-03-12 -30.705982   0.594386 -15.693388  -9.549022  \n",
       "2018-03-13   0.594386 -15.693388  -9.549022   0.572977  \n",
       "2018-03-14 -15.693388  -9.549022   0.572977  96.214574  \n",
       "2018-03-15  -9.549022   0.572977  96.214574 -71.358926  \n",
       "2018-03-16   0.572977  96.214574 -71.358926 -10.524085  \n",
       "\n",
       "[637 rows x 10 columns]"
      ]
     },
     "execution_count": 11,
     "metadata": {},
     "output_type": "execute_result"
    }
   ],
   "source": [
    "df1"
   ]
  },
  {
   "cell_type": "code",
   "execution_count": null,
   "id": "GrfjMKAKx6q_",
   "metadata": {
    "id": "GrfjMKAKx6q_",
    "outputId": "6151ffda-d2d7-41ab-cf24-09d50a814c26"
   },
   "outputs": [
    {
     "data": {
      "text/plain": [
       "(637, 9)"
      ]
     },
     "execution_count": 12,
     "metadata": {},
     "output_type": "execute_result"
    }
   ],
   "source": [
    "X=df1.iloc[:,1:].values\n",
    "X.shape\n"
   ]
  },
  {
   "cell_type": "code",
   "execution_count": null,
   "id": "tmo14le4x6q_",
   "metadata": {
    "id": "tmo14le4x6q_"
   },
   "outputs": [],
   "source": [
    "Y=df1.iloc[:,0].values"
   ]
  },
  {
   "cell_type": "code",
   "execution_count": null,
   "id": "Yst7DQxHx6rA",
   "metadata": {
    "id": "Yst7DQxHx6rA",
    "outputId": "635f5678-1f28-44a7-d61f-0164b2284f62"
   },
   "outputs": [
    {
     "data": {
      "text/plain": [
       "array([-2.39616963e+01,  7.12126842e+01, -6.40220502e+01, -1.76335965e+01,\n",
       "        2.73864215e+02, -2.15023461e+02,  1.68952375e+02, -2.15651406e+02,\n",
       "       -6.84235526e+00,  2.00371298e+01,  5.49258275e+01, -6.70011928e+01,\n",
       "        3.33455156e+01,  1.30419877e+01, -2.31202971e+01, -6.31094692e-02,\n",
       "       -3.91190097e+01,  6.37232816e+01, -1.65179885e+01,  4.45319960e+00,\n",
       "       -4.93981934e+01,  3.46875382e+01,  4.76515111e+01, -1.23021942e+01,\n",
       "       -3.96842578e+01,  4.81917849e+01, -4.81059040e+01,  1.79647562e+01,\n",
       "       -2.81393295e+01,  1.14077649e+00,  8.22557138e+00, -7.19664589e+00,\n",
       "       -4.44896678e+00,  1.16908017e+01, -2.83148040e+01, -3.11715377e+01,\n",
       "        4.17301975e+01,  1.47639332e+00, -2.68561930e+01,  6.42415702e+00,\n",
       "        2.82858480e+01, -8.44384222e+00, -3.02925669e+01,  1.35164472e+01,\n",
       "        1.16802438e+01,  1.38796803e+00,  1.40074947e+01, -3.04573317e+01,\n",
       "        1.58205117e+01, -3.81050807e+00,  2.47717761e+01, -3.19461436e+01,\n",
       "        3.78239961e+00, -1.71793657e+01,  1.54471120e+01, -1.11687237e+01,\n",
       "       -2.22690808e+01, -7.28437495e-01,  2.74814191e+01, -1.37474907e+01,\n",
       "        1.80895590e+01, -1.02154565e+01,  1.37087480e+00, -3.83682861e+01,\n",
       "        6.47584845e+01, -1.67041244e+01, -1.56086675e+01,  8.28463488e+00,\n",
       "        5.83489585e-01, -1.23805412e+00, -2.90992746e+01,  3.17540996e+01,\n",
       "        2.60159979e+00, -2.17032071e+01, -1.94416208e+00,  1.12784414e+01,\n",
       "       -2.13290768e+01,  5.14585060e+00,  2.32299332e+01, -9.53497685e+00,\n",
       "       -1.03939607e+01,  2.02057169e+01, -1.17072626e+01,  1.40069057e+01,\n",
       "       -1.84698720e+01, -2.22610302e+00,  2.82851445e+01, -4.25230175e+01,\n",
       "        2.60865070e+01, -1.26828573e+01,  4.05976009e+00, -7.84679215e+00,\n",
       "        2.71511536e+01, -3.02381510e+01, -3.14872686e+00,  1.15131170e+01,\n",
       "        1.29541387e+01,  1.27025596e+01, -6.04109302e+01,  4.85703272e+01,\n",
       "       -9.26305528e+00, -1.25863045e+01,  7.49048150e+00,  1.13701876e+01,\n",
       "       -7.88804462e+00, -1.59024161e-01,  8.40227257e+00, -1.42442622e+01,\n",
       "       -3.76706571e+00,  1.83180355e+01, -1.09499429e+01, -5.41762063e+00,\n",
       "        2.33759376e+01, -1.21156615e+01, -6.30691917e+00, -1.18457627e+01,\n",
       "       -4.89649402e-01, -1.20944136e+00,  2.39832102e+01, -3.03695073e+01,\n",
       "       -1.83811182e-01, -7.20232285e+00,  1.78638270e+01, -1.54954744e+01,\n",
       "        2.53164926e+01, -2.86502346e+01,  8.25388611e+00,  1.50983528e+01,\n",
       "        2.22036598e+01, -1.73448006e+01, -3.49144374e+01, -2.50003998e+00,\n",
       "        1.27944515e+01,  4.78462049e+01, -4.96457637e+01,  3.60091884e+01,\n",
       "       -2.66159830e+01, -4.01726191e+00, -5.93984274e+00,  9.42790862e+00,\n",
       "       -2.87918928e+00,  2.80513261e+01, -3.47903750e+01,  1.18441617e+01,\n",
       "        7.51422014e+00, -1.08021491e+01,  2.67334795e+01,  1.05732492e+01,\n",
       "       -3.64582628e+01,  2.15528533e+01, -2.17234925e+01,  2.96111262e+01,\n",
       "       -3.04266784e+00, -2.30656603e+01,  2.71349948e+01, -4.50486928e+01,\n",
       "        8.28547638e+00,  1.65088192e+01, -9.78415826e+00, -1.61162031e+01,\n",
       "       -1.80637645e+01,  4.23397410e+01, -2.93688479e+01,  2.29614334e+01,\n",
       "        6.87461932e+00, -8.57168233e+00, -6.30526573e+00, -5.70075021e+00,\n",
       "        5.42569775e+01, -2.06982221e+01,  1.18268047e+01, -2.30361698e+01,\n",
       "       -1.18973012e+01,  9.80211568e+00, -1.95539465e+01,  3.06028217e+01,\n",
       "       -2.99247034e+01,  2.82184051e+01, -2.24464267e+01, -1.93575534e+00,\n",
       "       -6.87785391e+00, -1.97524766e+01,  4.59989273e+01, -1.98587576e+01,\n",
       "        1.23931378e+01,  4.93200286e+01, -5.29959526e+01, -2.17851384e+01,\n",
       "       -7.99086396e+00,  2.67670385e+01, -2.80032955e+01,  3.39758803e+00,\n",
       "       -4.21512090e+00,  1.85013636e+01,  1.93951528e+01, -3.05784511e+00,\n",
       "       -1.89547957e+01, -2.31424606e+01,  1.28600136e+01,  2.08920132e+01,\n",
       "       -3.80512589e+00,  3.61228791e+00, -6.37530200e+00, -1.83832248e+01,\n",
       "        1.40538763e+01,  6.22852189e+00,  8.72041032e-01,  1.90128098e+01,\n",
       "       -1.75575571e+00, -2.20976778e+01,  2.89743626e+00,  1.12221562e+01,\n",
       "        2.94117485e+00, -9.64180592e+00,  5.39112407e+00, -2.68870025e+01,\n",
       "        4.78371105e+01, -3.33400875e+01,  3.52861013e+00,  2.38778919e+01,\n",
       "       -2.41755309e+01,  1.05885659e+01, -3.30761719e+00,  3.12480374e+01,\n",
       "       -1.40315328e+01, -3.67571242e+00,  9.88260535e+00,  2.06861191e+01,\n",
       "       -1.55635477e+01, -8.06785227e+00, -6.18749237e+00,  2.25655300e+01,\n",
       "       -3.65414986e+01,  5.44445930e+00, -5.82051697e+00,  1.77105866e+01,\n",
       "        8.46768320e+00, -5.22189999e+00,  4.18546619e+01, -3.81632347e+01,\n",
       "       -2.65429008e+01,  2.62831936e+01, -1.09353129e-01, -1.10837084e+01,\n",
       "        2.02019586e+01, -2.92023043e+01, -2.04620291e+01,  1.86916235e+01,\n",
       "        9.33727725e+00, -2.16313203e+01,  2.48218791e+01, -2.30593699e+01,\n",
       "        1.03900977e+01, -2.36163842e+01,  2.38882415e+01, -4.23221590e+00,\n",
       "        8.75689768e+00, -3.23095045e+01,  2.40404978e+01, -4.90278149e+00,\n",
       "       -2.62564480e-01,  1.34101502e+01,  5.45223961e+00, -1.80029375e+01,\n",
       "       -2.22512751e+01,  2.20798796e+01,  2.85197073e+00, -2.58492288e+01,\n",
       "       -4.48994777e+00,  3.10011219e+01, -3.03692837e+01,  2.79654366e+00,\n",
       "        3.64210805e+01, -6.05310087e+01,  2.49436834e+01,  1.97917184e+01,\n",
       "       -3.00734504e+01,  1.66763249e+01,  5.59451932e+00,  1.27402407e+01,\n",
       "       -5.12902047e+00, -9.60591526e+00,  6.03007265e+00,  1.08336853e+00,\n",
       "        2.15216565e+01, -1.22320607e+01,  1.39282670e+01, -7.04930027e+01,\n",
       "        4.59668759e+01, -1.93916376e+01,  3.30685152e+01, -1.57093376e+01,\n",
       "       -5.72272986e-01, -1.13634428e+01,  1.05360048e+01,  7.98407662e+00,\n",
       "       -8.29947797e-01,  5.74724779e+01, -6.64418931e+01,  4.45381962e+01,\n",
       "       -3.57137999e+01,  2.66419937e+01, -2.81864944e+01, -6.71694993e+00,\n",
       "        1.59949616e+01,  5.13929743e+00, -8.13556835e-01, -7.84896762e+00,\n",
       "        4.87667595e+01, -5.97008274e+01, -1.06222591e+01,  1.38913020e+01,\n",
       "       -3.31206170e+00, -6.79740888e+00, -2.15506193e+00,  1.84627390e+01,\n",
       "       -2.06062775e+01, -6.76263420e+00,  3.59037179e+01, -9.98454200e+01,\n",
       "        8.62390101e+01, -6.23242862e+00,  1.78470809e+01, -5.99615830e+00,\n",
       "       -1.85942233e+01, -4.02862962e+00,  6.90109048e+00, -1.74196538e+01,\n",
       "        1.06090077e+01, -2.95738618e-01, -2.16633367e+01,  1.97229620e+01,\n",
       "        1.48265963e+01, -1.89350014e+00, -1.66795974e+01, -7.73641477e+01,\n",
       "        8.96202530e+01, -3.14767605e-01,  4.12484202e+00, -1.42112174e+01,\n",
       "       -1.75241189e+00, -2.34525344e+00,  1.05094666e+01,  2.81395730e+01,\n",
       "       -3.07656343e+01,  2.66223739e+01, -4.88580060e+00,  1.32161890e-01,\n",
       "       -1.74800209e+01,  9.70172459e+00, -2.30841572e+01, -2.40443749e+00,\n",
       "        4.00204100e+01, -2.08237732e+01,  3.86826095e+00,  8.30336424e+00,\n",
       "       -1.36182595e+01, -1.17443977e+01, -1.59032540e+01,  5.13870699e+01,\n",
       "       -2.01051321e+01,  2.14348068e+01,  1.29246833e+01, -9.49758882e-01,\n",
       "        1.38663133e+01, -4.17365130e+00, -9.95235954e+00,  2.31365541e+01,\n",
       "        4.51108521e+00,  1.32170861e+01, -1.45993988e+01, -3.75518754e+01,\n",
       "        3.96274827e+01,  2.50627028e+01, -5.30259845e+00,  6.79665012e+00,\n",
       "        1.01754575e+01, -2.88313020e+01, -4.15081496e+00,  2.26163667e+01,\n",
       "        1.25493610e+01, -2.38978269e+01, -1.81351593e+01,  7.46982080e+01,\n",
       "       -4.62615082e+01, -4.45307331e+01,  1.32817779e+01,  8.68872378e+01,\n",
       "       -3.28372417e+01, -7.10409578e+00,  2.97717750e+01, -1.77286670e+01,\n",
       "        1.89906603e+01, -1.44415896e+02,  1.03375031e+02, -2.38041621e+01,\n",
       "        7.37203123e+01, -2.41050821e+01,  1.82090485e+01, -1.41467668e+01,\n",
       "       -4.75059448e+00, -1.62772328e+01, -7.96127007e+01,  2.49568473e+01,\n",
       "        7.85603569e+01, -3.19089170e+01, -4.65691988e+01,  1.25514388e+01,\n",
       "        4.78911635e+01, -2.85544328e+01,  7.84417493e+00, -8.14617478e+00,\n",
       "        4.13177275e+01,  3.72079944e+01, -7.97845528e+01,  5.19104061e+01,\n",
       "       -3.29033920e+01,  1.82996480e+01,  2.59035967e+01, -2.49221895e+01,\n",
       "        4.13222346e+00, -3.03190064e+01,  1.92500088e+01, -7.40138730e+01,\n",
       "        3.30580885e+01, -2.77780257e+01,  2.31472168e+01,  1.68734234e+01,\n",
       "        2.70070455e+01,  1.60718996e+01, -1.06992655e+02,  8.16177575e+01,\n",
       "        2.05269478e+00, -4.23081895e+01,  4.09013489e+01, -2.38565679e+01,\n",
       "       -9.59841003e+00, -2.92225594e+01,  4.66073294e+01,  1.88371905e+01,\n",
       "       -1.03210616e+01,  5.73836431e+01, -1.00614191e+01, -8.91637724e+00,\n",
       "       -3.15515912e+01,  1.89228662e+01, -9.08925529e+00,  6.05519366e-01,\n",
       "       -3.61299418e+01,  1.43976114e+01,  5.18039584e+01, -4.34368226e+01,\n",
       "        2.06659367e+00,  1.13765742e+00,  1.40261287e+01, -2.17043929e+01,\n",
       "        1.74616767e+01,  1.79318053e+00, -7.57414391e+01,  5.80557392e+01,\n",
       "       -1.88901810e+00, -1.53187871e+01, -4.63682379e+01,  5.98735460e+01,\n",
       "       -1.05358082e+01, -1.92681109e+01,  3.58127164e+01,  7.24700726e+00,\n",
       "       -2.78022845e+01, -6.49057731e+00,  1.25622077e+01,  2.09394079e+01,\n",
       "       -1.77969328e+01, -9.15893171e+00,  1.47653580e+01, -6.68827185e+01,\n",
       "       -1.71331806e+01,  1.56581523e+02, -7.79798003e+01, -1.26771443e+01,\n",
       "        3.91464509e+01, -1.48644448e+01,  0.00000000e+00, -4.66930892e+01,\n",
       "        4.17118853e+00,  2.13258379e+01, -1.15011914e+01,  3.71946389e+00,\n",
       "       -2.20092099e+00, -8.22163808e+00,  2.42520157e+01, -7.81515213e-01,\n",
       "       -1.39165670e+01,  5.94040511e+00, -1.12900238e+01, -9.71137732e+00,\n",
       "        2.84480399e+01, -3.84043739e+01, -2.60369285e+01,  3.52454634e+01,\n",
       "       -1.86010063e+00,  8.50196035e+00,  1.55715038e+01, -2.89711637e+00,\n",
       "       -1.85671952e+01, -1.27614191e+01,  3.54205518e+01, -2.91961292e+01,\n",
       "        2.30967396e+01, -1.45790370e+01, -2.91291691e+00,  3.94048460e+01,\n",
       "       -2.85613375e+01, -1.48642189e+01,  3.00488688e+01, -1.16036397e+01,\n",
       "       -9.74132822e+00, -1.27946051e+01, -2.58426641e+01,  4.93880894e+01,\n",
       "        8.59653900e+00, -1.88642397e+01, -1.69345860e+01,  6.71535331e+00,\n",
       "        1.97433919e+01, -8.59500798e+00, -2.29596536e+01,  2.83615052e+01,\n",
       "        4.27821032e+00,  7.41673679e+00, -2.68095956e+01,  3.67119978e+01,\n",
       "       -1.36502250e+01,  1.94156222e+01, -1.34405628e+01,  6.01217688e+00,\n",
       "       -2.63133960e+01,  2.19029573e+01,  3.72991077e+01,  3.56296466e+00,\n",
       "        0.00000000e+00, -3.82020388e+01, -2.41565247e+01,  3.89236847e+01,\n",
       "       -2.60687007e+01,  2.11503951e+01,  1.86537286e+00, -4.21065483e+01,\n",
       "        1.42613079e+01,  1.42112000e+01, -8.92683449e+00,  3.10465700e+01,\n",
       "       -1.27910510e+01,  1.46841066e+01, -2.72604076e+01,  3.46421055e+01,\n",
       "       -3.11885166e+00, -8.99350992e+00,  1.54615931e+01, -1.70877618e+01,\n",
       "       -1.13490502e+01,  2.57432122e+01, -5.36528499e+01,  2.76643319e+01,\n",
       "        7.93636676e-01,  2.70104314e+01,  1.94285819e+01, -2.89695640e+01,\n",
       "        1.26337430e+01,  1.04174470e+01, -5.11820212e+00,  2.74575351e+01,\n",
       "       -2.10726387e+01,  4.05210236e+01, -6.27491361e+00,  8.49158077e+01,\n",
       "       -7.75954530e+01,  2.49379619e+00,  1.68677732e+00, -2.92260593e+01,\n",
       "        3.98826361e+01, -1.72684557e+00,  2.69601842e+00,  3.10413915e+01,\n",
       "        5.65168625e-01, -4.74705764e+00,  2.67031643e+01, -1.50943302e+01,\n",
       "        2.21763317e+01, -4.57731320e+01, -4.56372908e+01,  8.61038274e+01,\n",
       "        5.29667619e+01, -3.32712035e+01, -2.77649726e+01,  4.40616242e+00,\n",
       "       -4.51615981e+01,  6.21608862e+01,  5.01585986e+01, -2.30276166e+01,\n",
       "        5.30934829e+01, -3.96676467e+01,  8.43542384e+01, -9.93448427e+01,\n",
       "        1.29519110e+01, -1.35443563e+01,  8.81794748e+01, -1.49217157e+02,\n",
       "        6.40538714e+01, -4.12603898e+01,  5.04141924e+01, -4.47458331e+01,\n",
       "       -1.18099337e+01, -8.93760446e+00,  2.14178110e+01, -7.38108344e+00,\n",
       "       -2.80073468e+01,  3.61537996e+01,  1.79987699e+01,  6.34531706e-01,\n",
       "       -5.37456573e+01,  3.70007728e+01, -1.43747161e+01,  2.81370038e+01,\n",
       "       -2.65479143e+01,  6.66943839e+00,  4.71320803e+01, -4.44462027e+00,\n",
       "       -3.07059819e+01,  5.94386393e-01, -1.56933882e+01, -9.54902181e+00,\n",
       "        5.72976984e-01,  9.62145742e+01, -7.13589257e+01, -1.05240854e+01,\n",
       "       -1.58963643e+00])"
      ]
     },
     "execution_count": 14,
     "metadata": {},
     "output_type": "execute_result"
    }
   ],
   "source": [
    "Y"
   ]
  },
  {
   "cell_type": "code",
   "execution_count": null,
   "id": "D4o3NQNwx6rA",
   "metadata": {
    "id": "D4o3NQNwx6rA",
    "outputId": "4b4e9b04-bf08-4848-d326-34a915e6d3d9"
   },
   "outputs": [
    {
     "data": {
      "text/plain": [
       "479"
      ]
     },
     "execution_count": 15,
     "metadata": {},
     "output_type": "execute_result"
    }
   ],
   "source": [
    "nSplit=int(len(X)*0.8)-30\n",
    "nSplit"
   ]
  },
  {
   "cell_type": "code",
   "execution_count": null,
   "id": "alNF11WVx6rB",
   "metadata": {
    "id": "alNF11WVx6rB",
    "outputId": "c0069169-88b1-47c7-9bc9-0f1a43bde3f8"
   },
   "outputs": [
    {
     "name": "stdout",
     "output_type": "stream",
     "text": [
      "30 122 645 485\n"
     ]
    }
   ],
   "source": [
    "#Ytrain, Ytest=Y[0:nSplit],Y[nSplit:-30]\n",
    "#Xtrain, Xtest=X[0:nSplit,:],X[nSplit:-30,:]\n",
    "\n",
    "\n",
    "from sklearn.model_selection import train_test_split\n",
    "Xtrain, Xtest, Ytrain, Ytest = train_test_split(X[:-30, :], Y[:-30], test_size=0.2, random_state=42)\n",
    "\n",
    "Y_for_pred=Y[-30:]\n",
    "X_for_pred=X[-30:,:]\n",
    "df_test=df.iloc[-30:]\n",
    "print(len(df_test), len(Ytest), len(df), len(Ytrain))"
   ]
  },
  {
   "cell_type": "code",
   "execution_count": null,
   "id": "0B8G2-Qdx6rB",
   "metadata": {
    "id": "0B8G2-Qdx6rB",
    "outputId": "73d285cb-0f69-45f1-87ee-33b77d237602"
   },
   "outputs": [
    {
     "data": {
      "text/plain": [
       "(485, 9)"
      ]
     },
     "execution_count": 17,
     "metadata": {},
     "output_type": "execute_result"
    }
   ],
   "source": [
    "Xtrain.shape"
   ]
  },
  {
   "cell_type": "markdown",
   "id": "RrNX1BKKx6rC",
   "metadata": {
    "id": "RrNX1BKKx6rC"
   },
   "source": [
    "### Random Forest Regressor"
   ]
  },
  {
   "cell_type": "code",
   "execution_count": null,
   "id": "ZD3vSXb_x6rD",
   "metadata": {
    "id": "ZD3vSXb_x6rD"
   },
   "outputs": [],
   "source": [
    "from sklearn.ensemble import RandomForestRegressor\n",
    "rfr=RandomForestRegressor(n_estimators=200)"
   ]
  },
  {
   "cell_type": "code",
   "execution_count": null,
   "id": "7754sy0dx6rE",
   "metadata": {
    "id": "7754sy0dx6rE",
    "outputId": "0ae20f47-f46b-448b-b18f-f11ca31b4354"
   },
   "outputs": [
    {
     "data": {
      "text/plain": [
       "RandomForestRegressor(n_estimators=200)"
      ]
     },
     "execution_count": 19,
     "metadata": {},
     "output_type": "execute_result"
    }
   ],
   "source": [
    "rfr.fit(Xtrain, Ytrain)"
   ]
  },
  {
   "cell_type": "code",
   "execution_count": null,
   "id": "zDMO-zlUx6rE",
   "metadata": {
    "id": "zDMO-zlUx6rE",
    "outputId": "4d2e6687-39b3-4b8c-9c0a-5a9b372660ad"
   },
   "outputs": [
    {
     "name": "stdout",
     "output_type": "stream",
     "text": [
      "0.8977303213421235\n",
      "0.13309353670128843\n"
     ]
    }
   ],
   "source": [
    "print(rfr.score(Xtrain, Ytrain))\n",
    "print(rfr.score(Xtest, Ytest))"
   ]
  },
  {
   "cell_type": "code",
   "execution_count": null,
   "id": "1QR01pjJx6rE",
   "metadata": {
    "id": "1QR01pjJx6rE"
   },
   "outputs": [],
   "source": [
    "train_prediction=rfr.predict(Xtrain)\n",
    "test_prediction=rfr.predict(Xtest)"
   ]
  },
  {
   "cell_type": "code",
   "execution_count": null,
   "id": "xlo60boCx6rE",
   "metadata": {
    "id": "xlo60boCx6rE",
    "outputId": "1e41da5e-c5ff-45a2-caad-a538f8b7a29f"
   },
   "outputs": [
    {
     "data": {
      "image/png": "[encoded data removed]",
      "text/plain": [
       "<Figure size 432x288 with 1 Axes>"
      ]
     },
     "metadata": {
      "needs_background": "light"
     },
     "output_type": "display_data"
    }
   ],
   "source": [
    "plt.scatter(train_prediction, Ytrain, label='Train')\n",
    "plt.show()"
   ]
  },
  {
   "cell_type": "code",
   "execution_count": null,
   "id": "ntm-jYq-x6rE",
   "metadata": {
    "id": "ntm-jYq-x6rE",
    "outputId": "072d606e-3003-4175-c1db-9221054fff6a"
   },
   "outputs": [
    {
     "data": {
      "image/png": "[encoded data removed]",
      "text/plain": [
       "<Figure size 432x288 with 1 Axes>"
      ]
     },
     "metadata": {
      "needs_background": "light"
     },
     "output_type": "display_data"
    }
   ],
   "source": [
    "plt.scatter(test_prediction, Ytest, label='Test')\n",
    "plt.show()"
   ]
  },
  {
   "cell_type": "code",
   "execution_count": null,
   "id": "06u9bp0kx6rG",
   "metadata": {
    "id": "06u9bp0kx6rG"
   },
   "outputs": [],
   "source": [
    "from sklearn.model_selection import ParameterGrid\n",
    "grid={'n_estimators' : [200], 'max_depth' : [2,3,4,5,6,7,8,9,10], 'max_features' : range(2,9), 'random_state' : [17,18,19]}\n",
    "# features are these \"past values\", that we use for predictions"
   ]
  },
  {
   "cell_type": "code",
   "execution_count": null,
   "id": "OI2OHt64x6rG",
   "metadata": {
    "id": "OI2OHt64x6rG"
   },
   "outputs": [],
   "source": [
    "rfr=RandomForestRegressor()\n",
    "test_scores=[]\n",
    "for g in ParameterGrid(grid):\n",
    "    rfr.set_params(**g)\n",
    "    rfr.fit(Xtrain, Ytrain)\n",
    "    \n",
    "    test_prediction=rfr.predict(X_for_pred)\n",
    "    true_pred=np.empty(0)\n",
    "    true_pred=np.array([df.iloc[-len(X_for_pred)-1]+Ytest[0]])\n",
    "    for i in range(1, len(X_for_pred)):\n",
    "            true_pred=np.append(true_pred,true_pred[-1]+test_prediction[i])\n",
    "            mape=mean_absolute_percentage_error(df.iloc[-len(X_for_pred):].values, true_pred)\n",
    "    #print(mape)\n",
    "    test_scores.append(mape)\n",
    "    #test_scores.append(rfr.score(Xtest, Ytest))"
   ]
  },
  {
   "cell_type": "code",
   "execution_count": null,
   "id": "tlQ-kIMEx6rH",
   "metadata": {
    "id": "tlQ-kIMEx6rH",
    "outputId": "d6ee8591-aa18-4673-9535-c9937d2317f5"
   },
   "outputs": [
    {
     "data": {
      "text/plain": [
       "2"
      ]
     },
     "execution_count": 71,
     "metadata": {},
     "output_type": "execute_result"
    }
   ],
   "source": [
    "best_idx=np.argmin(test_scores)\n",
    "best_idx"
   ]
  },
  {
   "cell_type": "code",
   "execution_count": null,
   "id": "2iYiYd9ax6rH",
   "metadata": {
    "id": "2iYiYd9ax6rH",
    "outputId": "7ce925ff-6be7-4271-eb76-f57af59679c5"
   },
   "outputs": [
    {
     "data": {
      "text/plain": [
       "0.24354083238932248"
      ]
     },
     "execution_count": 72,
     "metadata": {},
     "output_type": "execute_result"
    }
   ],
   "source": [
    "test_scores[best_idx]"
   ]
  },
  {
   "cell_type": "code",
   "execution_count": null,
   "id": "cxvdcVwgx6rH",
   "metadata": {
    "id": "cxvdcVwgx6rH",
    "outputId": "105b5380-da2d-4174-ed25-086871962ab4"
   },
   "outputs": [
    {
     "data": {
      "text/plain": [
       "{'random_state': 19, 'n_estimators': 200, 'max_features': 2, 'max_depth': 2}"
      ]
     },
     "execution_count": 73,
     "metadata": {},
     "output_type": "execute_result"
    }
   ],
   "source": [
    "ParameterGrid(grid)[best_idx]"
   ]
  },
  {
   "cell_type": "code",
   "execution_count": null,
   "id": "0acCyGhex6rH",
   "metadata": {
    "id": "0acCyGhex6rH",
    "outputId": "4a465f60-d5b4-4aff-bb80-1d105bb1d255"
   },
   "outputs": [
    {
     "name": "stdout",
     "output_type": "stream",
     "text": [
      "0.21082452185051603\n",
      "0.06649396641358563\n"
     ]
    }
   ],
   "source": [
    "rfr=RandomForestRegressor(random_state=19, n_estimators=200, max_features=2, max_depth=2)\n",
    "rfr.fit(Xtrain, Ytrain)\n",
    "print(rfr.score(Xtrain, Ytrain))\n",
    "print(rfr.score(Xtest, Ytest))\n",
    "#train_prediction=rfr.predict(Xtrain)\n",
    "test_prediction=rfr.predict(X_for_pred)"
   ]
  },
  {
   "cell_type": "code",
   "execution_count": null,
   "id": "nE8qqbMTx6rI",
   "metadata": {
    "id": "nE8qqbMTx6rI",
    "outputId": "a014281a-397b-4d13-a6bc-5775aad92683"
   },
   "outputs": [
    {
     "name": "stdout",
     "output_type": "stream",
     "text": [
      "MAPE = 0.24354083238932248\n"
     ]
    },
    {
     "name": "stderr",
     "output_type": "stream",
     "text": [
      "<ipython-input-76-afa1145afd50>:4: SettingWithCopyWarning: \n",
      "A value is trying to be set on a copy of a slice from a DataFrame.\n",
      "Try using .loc[row_indexer,col_indexer] = value instead\n",
      "\n",
      "See the caveats in the documentation: https://pandas.pydata.org/pandas-docs/stable/user_guide/indexing.html#returning-a-view-versus-a-copy\n",
      "  df_test['rfr'] = true_pred\n"
     ]
    }
   ],
   "source": [
    "true_pred=np.array([df.iloc[-len(X_for_pred)-1]+Ytest[0]])\n",
    "for i in range(1, len(X_for_pred)):\n",
    "        true_pred=np.append(true_pred,true_pred[-1]+test_prediction[i])\n",
    "df_test['rfr'] = true_pred\n",
    "print(f'MAPE = {mean_absolute_percentage_error(df.iloc[-len(X_for_pred):].values, true_pred)}')  "
   ]
  },
  {
   "cell_type": "code",
   "execution_count": null,
   "id": "G7HTciKXx6rI",
   "metadata": {
    "id": "G7HTciKXx6rI"
   },
   "outputs": [],
   "source": [
    "feature_importanceRFR=rfr.feature_importances_"
   ]
  },
  {
   "cell_type": "code",
   "execution_count": null,
   "id": "DEr_kyXox6rJ",
   "metadata": {
    "id": "DEr_kyXox6rJ"
   },
   "outputs": [],
   "source": [
    "sorted_index=np.argsort(feature_importanceRFR)[::-1]\n",
    "x1=range(len(feature_importanceRFR))\n",
    "feature_names=df1.columns.tolist()[1:]\n",
    "labels=np.array(feature_names)[sorted_index]"
   ]
  },
  {
   "cell_type": "code",
   "execution_count": null,
   "id": "ocycK6Mcx6rJ",
   "metadata": {
    "id": "ocycK6Mcx6rJ",
    "outputId": "dddd5e49-b726-4570-9834-65055638b87a"
   },
   "outputs": [
    {
     "data": {
      "image/png": "[encoded data removed]",
      "text/plain": [
       "<Figure size 432x288 with 1 Axes>"
      ]
     },
     "metadata": {
      "needs_background": "light"
     },
     "output_type": "display_data"
    }
   ],
   "source": [
    "plt.bar(x1, feature_importanceRFR[sorted_index], tick_label=labels)\n",
    "plt.xticks(rotation=90);"
   ]
  },
  {
   "cell_type": "markdown",
   "id": "tqs85suEx6rJ",
   "metadata": {
    "id": "tqs85suEx6rJ"
   },
   "source": [
    "### Gradient Boosting Regressor"
   ]
  },
  {
   "cell_type": "code",
   "execution_count": null,
   "id": "CE2wH3Mpx6rJ",
   "metadata": {
    "id": "CE2wH3Mpx6rJ",
    "outputId": "aff02557-7654-41d0-b694-374c5ee80802"
   },
   "outputs": [
    {
     "name": "stdout",
     "output_type": "stream",
     "text": [
      "0.9860890986176997\n",
      "0.09401356986335252\n"
     ]
    }
   ],
   "source": [
    "from sklearn.ensemble import GradientBoostingRegressor\n",
    "gbr=GradientBoostingRegressor(max_features=4, learning_rate=0.1, n_estimators=500, subsample=0.6, random_state=99)\n",
    "gbr.fit(Xtrain, Ytrain)\n",
    "print(gbr.score(Xtrain, Ytrain))\n",
    "print(gbr.score(Xtest, Ytest))\n",
    "train_prediction=gbr.predict(Xtrain)\n",
    "test_prediction=gbr.predict(Xtest)"
   ]
  },
  {
   "cell_type": "code",
   "execution_count": null,
   "id": "6j_0_1m6x6rJ",
   "metadata": {
    "id": "6j_0_1m6x6rJ"
   },
   "outputs": [],
   "source": [
    "from sklearn.model_selection import ParameterGrid\n",
    "grid={'n_estimators' : [500], 'learning_rate' : [0.05, 0.1, 0.5, 1], 'subsample' : [.4, .5, .6, .7, .8, .9, 1.], 'max_features' : range(2, 9), 'random_state' : [17]}\n",
    "\n",
    "\n",
    "gbr=GradientBoostingRegressor()\n",
    "test_scores=[]\n",
    "for g in ParameterGrid(grid):\n",
    "    gbr.set_params(**g)\n",
    "    gbr.fit(Xtrain, Ytrain)\n",
    "    \n",
    "    test_prediction=gbr.predict(X_for_pred)\n",
    "    true_pred=np.empty(0)\n",
    "    true_pred=np.array([df.iloc[-len(X_for_pred)-1]+Ytest[0]])\n",
    "    for i in range(1, len(X_for_pred)):\n",
    "            true_pred=np.append(true_pred,true_pred[-1]+test_prediction[i])\n",
    "            mape=mean_absolute_percentage_error(df.iloc[-len(X_for_pred):].values, true_pred)\n",
    "    #print(mape)\n",
    "    test_scores.append(mape)\n",
    "    #test_scores.append(gbr.score(Xtest, Ytest))"
   ]
  },
  {
   "cell_type": "code",
   "execution_count": null,
   "id": "K7sJ5Yc8x6rK",
   "metadata": {
    "id": "K7sJ5Yc8x6rK",
    "outputId": "7be728c2-adf8-4655-90c8-5f36adfec368"
   },
   "outputs": [
    {
     "name": "stdout",
     "output_type": "stream",
     "text": [
      "best score: 0.07068754784978583\n"
     ]
    },
    {
     "data": {
      "text/plain": [
       "{'subsample': 0.9,\n",
       " 'random_state': 17,\n",
       " 'n_estimators': 500,\n",
       " 'max_features': 6,\n",
       " 'learning_rate': 1}"
      ]
     },
     "execution_count": 90,
     "metadata": {},
     "output_type": "execute_result"
    }
   ],
   "source": [
    "best_idx=np.argmin(test_scores)\n",
    "print(f'best score: {test_scores[best_idx]}')\n",
    "ParameterGrid(grid)[best_idx]"
   ]
  },
  {
   "cell_type": "code",
   "execution_count": null,
   "id": "tgTQlt08x6rK",
   "metadata": {
    "id": "tgTQlt08x6rK",
    "outputId": "8e2627cf-32e5-4f54-8187-7483fd60be29"
   },
   "outputs": [
    {
     "name": "stdout",
     "output_type": "stream",
     "text": [
      "0.9911197811604245\n",
      "0.11103134608102438\n"
     ]
    }
   ],
   "source": [
    "from sklearn.ensemble import GradientBoostingRegressor\n",
    "gbr=GradientBoostingRegressor(max_features=6, learning_rate=0.1, n_estimators=500, subsample=.9, random_state=17)\n",
    "gbr.fit(Xtrain, Ytrain)\n",
    "print(gbr.score(Xtrain, Ytrain))\n",
    "print(gbr.score(Xtest, Ytest))\n",
    "#train_prediction=gbr.predict(Xtrain)\n",
    "test_prediction=gbr.predict(X_for_pred)"
   ]
  },
  {
   "cell_type": "code",
   "execution_count": null,
   "id": "f3oN2qWEx6rK",
   "metadata": {
    "id": "f3oN2qWEx6rK",
    "outputId": "49617773-4f61-4248-bda4-57929c1b8b15"
   },
   "outputs": [
    {
     "data": {
      "image/png": "[encoded data removed]",
      "text/plain": [
       "<Figure size 432x288 with 1 Axes>"
      ]
     },
     "metadata": {
      "needs_background": "light"
     },
     "output_type": "display_data"
    }
   ],
   "source": [
    "feature_importanceGBR=gbr.feature_importances_\n",
    "sorted_index=np.argsort(feature_importanceGBR)[::-1]\n",
    "x1=range(len(feature_importanceGBR))\n",
    "feature_names=df1.columns.tolist()[1:]\n",
    "labels=np.array(feature_names)[sorted_index]\n",
    "plt.bar(x1, feature_importanceGBR[sorted_index], tick_label=labels)\n",
    "plt.xticks(rotation=90);"
   ]
  },
  {
   "cell_type": "code",
   "execution_count": null,
   "id": "9OVqUAc8x6rL",
   "metadata": {
    "id": "9OVqUAc8x6rL",
    "outputId": "3fa30778-08cb-4b4d-aa0a-9e702cc8658a"
   },
   "outputs": [
    {
     "name": "stdout",
     "output_type": "stream",
     "text": [
      "MAPE = 0.4154105120349022\n"
     ]
    },
    {
     "name": "stderr",
     "output_type": "stream",
     "text": [
      "<ipython-input-93-152f43347ac0>:4: SettingWithCopyWarning: \n",
      "A value is trying to be set on a copy of a slice from a DataFrame.\n",
      "Try using .loc[row_indexer,col_indexer] = value instead\n",
      "\n",
      "See the caveats in the documentation: https://pandas.pydata.org/pandas-docs/stable/user_guide/indexing.html#returning-a-view-versus-a-copy\n",
      "  df_test['gbr'] = true_pred\n"
     ]
    }
   ],
   "source": [
    "true_pred=np.array([df.iloc[-len(X_for_pred)-1]+Ytest[0]])\n",
    "for i in range(1, len(X_for_pred)):\n",
    "        true_pred=np.append(true_pred,true_pred[-1]+test_prediction[i])\n",
    "df_test['gbr'] = true_pred\n",
    "print(f'MAPE = {mean_absolute_percentage_error(df.iloc[-len(X_for_pred):].values, true_pred)}')  "
   ]
  },
  {
   "cell_type": "code",
   "execution_count": null,
   "id": "rOmt24gsx6rL",
   "metadata": {
    "id": "rOmt24gsx6rL",
    "outputId": "c30ccf22-ad12-4aad-f589-267f7b17bf36"
   },
   "outputs": [
    {
     "data": {
      "text/plain": [
       "<AxesSubplot:xlabel='Date'>"
      ]
     },
     "execution_count": 94,
     "metadata": {},
     "output_type": "execute_result"
    },
    {
     "data": {
      "image/png": "[encoded data removed]",
      "text/plain": [
       "<Figure size 432x288 with 1 Axes>"
      ]
     },
     "metadata": {
      "needs_background": "light"
     },
     "output_type": "display_data"
    }
   ],
   "source": [
    "df_test.plot()"
   ]
  },
  {
   "cell_type": "code",
   "execution_count": null,
   "id": "k2lnbpbQx6rL",
   "metadata": {
    "id": "k2lnbpbQx6rL"
   },
   "outputs": [],
   "source": []
  }
 ],
 "metadata": {
  "colab": {
   "name": "RandomForrest_GradientBoosting.ipynb",
   "provenance": []
  },
  "kernelspec": {
   "display_name": "Python 3 (ipykernel)",
   "language": "python",
   "name": "python3"
  },
  "language_info": {
   "codemirror_mode": {
    "name": "ipython",
    "version": 3
   },
   "file_extension": ".py",
   "mimetype": "text/x-python",
   "name": "python",
   "nbconvert_exporter": "python",
   "pygments_lexer": "ipython3",
   "version": "3.8.10"
  }
 },
 "nbformat": 4,
 "nbformat_minor": 5
}
