{
 "cells": [
  {
   "cell_type": "code",
   "execution_count": 1,
   "metadata": {
    "id": "tSxWNeWjbk1Q"
   },
   "outputs": [],
   "source": [
    "from keras.preprocessing.sequence import TimeseriesGenerator"
   ]
  },
  {
   "cell_type": "code",
   "execution_count": 2,
   "metadata": {
    "id": "CI7NxLdhb-RY"
   },
   "outputs": [],
   "source": [
    "import numpy as np\n",
    "import pandas as pd\n",
    "import matplotlib.pyplot as plt\n",
    "import pandas_datareader as pdr"
   ]
  },
  {
   "cell_type": "code",
   "execution_count": 3,
   "metadata": {
    "id": "P9HjRXDGccbU"
   },
   "outputs": [
    {
     "data": {
      "text/html": [
       "<div>\n",
       "<style scoped>\n",
       "    .dataframe tbody tr th:only-of-type {\n",
       "        vertical-align: middle;\n",
       "    }\n",
       "\n",
       "    .dataframe tbody tr th {\n",
       "        vertical-align: top;\n",
       "    }\n",
       "\n",
       "    .dataframe thead th {\n",
       "        text-align: right;\n",
       "    }\n",
       "</style>\n",
       "<table border=\"1\" class=\"dataframe\">\n",
       "  <thead>\n",
       "    <tr style=\"text-align: right;\">\n",
       "      <th></th>\n",
       "      <th>ProdId</th>\n",
       "      <th>TimeId</th>\n",
       "      <th>RegionId</th>\n",
       "      <th>MerchantId</th>\n",
       "      <th>Price_USD</th>\n",
       "      <th>Price_Original</th>\n",
       "    </tr>\n",
       "    <tr>\n",
       "      <th>Date</th>\n",
       "      <th></th>\n",
       "      <th></th>\n",
       "      <th></th>\n",
       "      <th></th>\n",
       "      <th></th>\n",
       "      <th></th>\n",
       "    </tr>\n",
       "  </thead>\n",
       "  <tbody>\n",
       "    <tr>\n",
       "      <th>2014-09-17</th>\n",
       "      <td>1</td>\n",
       "      <td>20140917</td>\n",
       "      <td>4</td>\n",
       "      <td>32</td>\n",
       "      <td>601.738413</td>\n",
       "      <td>463.900</td>\n",
       "    </tr>\n",
       "    <tr>\n",
       "      <th>2014-09-18</th>\n",
       "      <td>1</td>\n",
       "      <td>20140918</td>\n",
       "      <td>4</td>\n",
       "      <td>32</td>\n",
       "      <td>551.885276</td>\n",
       "      <td>425.870</td>\n",
       "    </tr>\n",
       "    <tr>\n",
       "      <th>2014-09-19</th>\n",
       "      <td>1</td>\n",
       "      <td>20140919</td>\n",
       "      <td>4</td>\n",
       "      <td>32</td>\n",
       "      <td>548.098896</td>\n",
       "      <td>424.530</td>\n",
       "    </tr>\n",
       "    <tr>\n",
       "      <th>2014-09-20</th>\n",
       "      <td>1</td>\n",
       "      <td>20140920</td>\n",
       "      <td>4</td>\n",
       "      <td>32</td>\n",
       "      <td>545.093860</td>\n",
       "      <td>424.530</td>\n",
       "    </tr>\n",
       "    <tr>\n",
       "      <th>2014-09-21</th>\n",
       "      <td>1</td>\n",
       "      <td>20140921</td>\n",
       "      <td>4</td>\n",
       "      <td>32</td>\n",
       "      <td>544.674245</td>\n",
       "      <td>424.530</td>\n",
       "    </tr>\n",
       "    <tr>\n",
       "      <th>...</th>\n",
       "      <td>...</td>\n",
       "      <td>...</td>\n",
       "      <td>...</td>\n",
       "      <td>...</td>\n",
       "      <td>...</td>\n",
       "      <td>...</td>\n",
       "    </tr>\n",
       "    <tr>\n",
       "      <th>2018-03-12</th>\n",
       "      <td>2054</td>\n",
       "      <td>20180312</td>\n",
       "      <td>4</td>\n",
       "      <td>32</td>\n",
       "      <td>261.254103</td>\n",
       "      <td>212.090</td>\n",
       "    </tr>\n",
       "    <tr>\n",
       "      <th>2018-03-13</th>\n",
       "      <td>2054</td>\n",
       "      <td>20180313</td>\n",
       "      <td>4</td>\n",
       "      <td>32</td>\n",
       "      <td>263.058996</td>\n",
       "      <td>212.090</td>\n",
       "    </tr>\n",
       "    <tr>\n",
       "      <th>2018-03-14</th>\n",
       "      <td>2054</td>\n",
       "      <td>20180314</td>\n",
       "      <td>4</td>\n",
       "      <td>32</td>\n",
       "      <td>261.517908</td>\n",
       "      <td>211.415</td>\n",
       "    </tr>\n",
       "    <tr>\n",
       "      <th>2018-03-15</th>\n",
       "      <td>2054</td>\n",
       "      <td>20180315</td>\n",
       "      <td>4</td>\n",
       "      <td>32</td>\n",
       "      <td>260.038547</td>\n",
       "      <td>211.150</td>\n",
       "    </tr>\n",
       "    <tr>\n",
       "      <th>2018-03-16</th>\n",
       "      <td>2054</td>\n",
       "      <td>20180316</td>\n",
       "      <td>4</td>\n",
       "      <td>32</td>\n",
       "      <td>259.480216</td>\n",
       "      <td>211.165</td>\n",
       "    </tr>\n",
       "  </tbody>\n",
       "</table>\n",
       "<p>997156 rows × 6 columns</p>\n",
       "</div>"
      ],
      "text/plain": [
       "            ProdId    TimeId  RegionId  MerchantId   Price_USD  Price_Original\n",
       "Date                                                                          \n",
       "2014-09-17       1  20140917         4          32  601.738413         463.900\n",
       "2014-09-18       1  20140918         4          32  551.885276         425.870\n",
       "2014-09-19       1  20140919         4          32  548.098896         424.530\n",
       "2014-09-20       1  20140920         4          32  545.093860         424.530\n",
       "2014-09-21       1  20140921         4          32  544.674245         424.530\n",
       "...            ...       ...       ...         ...         ...             ...\n",
       "2018-03-12    2054  20180312         4          32  261.254103         212.090\n",
       "2018-03-13    2054  20180313         4          32  263.058996         212.090\n",
       "2018-03-14    2054  20180314         4          32  261.517908         211.415\n",
       "2018-03-15    2054  20180315         4          32  260.038547         211.150\n",
       "2018-03-16    2054  20180316         4          32  259.480216         211.165\n",
       "\n",
       "[997156 rows x 6 columns]"
      ]
     },
     "execution_count": 3,
     "metadata": {},
     "output_type": "execute_result"
    }
   ],
   "source": [
    "df_GPU=pd.read_csv('FACT_GPU_PRICE.csv')\n",
    "df_GPU['Date']=pd.to_datetime(df_GPU['TimeId'].astype(str), format=\"%Y%m%d\")\n",
    "df_GPU.set_index('Date', inplace=True)\n",
    "#df_GPU=df_GPU.reindex(pd.date_range('2013-03-22', '2018-03-16'))\n",
    "#df_GPU.index.freq='D'\n",
    "#df_GPU.fillna(method='ffill', inplace=True)\n",
    "df_GPU"
   ]
  },
  {
   "cell_type": "code",
   "execution_count": 4,
   "metadata": {
    "id": "TEzr2UxgcS1Z"
   },
   "outputs": [],
   "source": [
    "df=df_GPU[df_GPU['ProdId']==1047]['Price_USD'].groupby('Date').mean()\n",
    "#df_NVidia\n",
    "df=df.iloc[3:]\n",
    "df.reindex(pd.date_range('2016-06-10', '2018-03-16',freq='D'))\n",
    "\n",
    "df=df.asfreq('D')\n",
    "df.fillna(method='ffill', inplace=True)\n",
    "df=pd.DataFrame(df)"
   ]
  },
  {
   "cell_type": "code",
   "execution_count": 5,
   "metadata": {
    "colab": {
     "base_uri": "https://localhost:8080/",
     "height": 296
    },
    "id": "_-xTYEpNcyWA",
    "outputId": "82f79d74-2afb-4c31-8154-9ed6c9577ced"
   },
   "outputs": [
    {
     "data": {
      "text/plain": [
       "<AxesSubplot:xlabel='Date'>"
      ]
     },
     "execution_count": 5,
     "metadata": {},
     "output_type": "execute_result"
    },
    {
     "data": {
      "image/png": "[encoded data removed]",
      "text/plain": [
       "<Figure size 432x288 with 1 Axes>"
      ]
     },
     "metadata": {
      "needs_background": "light"
     },
     "output_type": "display_data"
    }
   ],
   "source": [
    "df.plot()"
   ]
  },
  {
   "cell_type": "code",
   "execution_count": 6,
   "metadata": {
    "id": "1w5TT57cc3Ke"
   },
   "outputs": [],
   "source": [
    "train=df.iloc[:-30]\n",
    "test=df.iloc[-30:]"
   ]
  },
  {
   "cell_type": "code",
   "execution_count": 7,
   "metadata": {
    "id": "bSEAX6f4dR9n"
   },
   "outputs": [],
   "source": [
    "from sklearn.preprocessing import MinMaxScaler"
   ]
  },
  {
   "cell_type": "code",
   "execution_count": 8,
   "metadata": {
    "id": "AEhfcmoMdhpG"
   },
   "outputs": [],
   "source": [
    "scaler=MinMaxScaler()\n"
   ]
  },
  {
   "cell_type": "code",
   "execution_count": 9,
   "metadata": {
    "colab": {
     "base_uri": "https://localhost:8080/"
    },
    "id": "kvfrhbpRdk3o",
    "outputId": "dab28025-8a49-484a-a7b2-cd56d8cde537"
   },
   "outputs": [
    {
     "data": {
      "text/plain": [
       "MinMaxScaler()"
      ]
     },
     "execution_count": 9,
     "metadata": {},
     "output_type": "execute_result"
    }
   ],
   "source": [
    "scaler.fit(train)"
   ]
  },
  {
   "cell_type": "code",
   "execution_count": 10,
   "metadata": {
    "id": "w3ssV3wDdoe-"
   },
   "outputs": [],
   "source": [
    "scaled_train=scaler.transform(train)\n",
    "scaled_test=scaler.transform(test)"
   ]
  },
  {
   "cell_type": "code",
   "execution_count": 11,
   "metadata": {
    "id": "v9iLda3nd2BR"
   },
   "outputs": [],
   "source": [
    "n_input=7\n",
    "n_features=1\n",
    "generator=TimeseriesGenerator(scaled_train, scaled_train, length=n_input, batch_size=1)"
   ]
  },
  {
   "cell_type": "code",
   "execution_count": 12,
   "metadata": {
    "colab": {
     "base_uri": "https://localhost:8080/"
    },
    "id": "Zot2GB2iehkl",
    "outputId": "f6bed3e4-81ae-457f-d57e-2fa521ac742d"
   },
   "outputs": [
    {
     "data": {
      "text/plain": [
       "608"
      ]
     },
     "execution_count": 12,
     "metadata": {},
     "output_type": "execute_result"
    }
   ],
   "source": [
    "len(generator)"
   ]
  },
  {
   "cell_type": "code",
   "execution_count": 13,
   "metadata": {
    "colab": {
     "base_uri": "https://localhost:8080/"
    },
    "id": "yMRByhvnepTG",
    "outputId": "2bf18c93-2233-4343-8d1e-b6366b1ffccb"
   },
   "outputs": [
    {
     "data": {
      "text/plain": [
       "(array([[[0.49494322],\n",
       "         [0.4219714 ],\n",
       "         [0.4516379 ],\n",
       "         [0.32268322],\n",
       "         [0.36482185],\n",
       "         [0.4943777 ],\n",
       "         [0.48615631]]]),\n",
       " array([[0.41235751]]))"
      ]
     },
     "execution_count": 13,
     "metadata": {},
     "output_type": "execute_result"
    }
   ],
   "source": [
    "generator[0]"
   ]
  },
  {
   "cell_type": "code",
   "execution_count": 14,
   "metadata": {
    "id": "GMQkUl_5e0mG"
   },
   "outputs": [],
   "source": [
    "from keras.models import Sequential\n",
    "from keras.layers import Dense\n",
    "from keras.layers import LSTM\n"
   ]
  },
  {
   "cell_type": "code",
   "execution_count": 15,
   "metadata": {
    "id": "ODO1UQ0SfS6w"
   },
   "outputs": [],
   "source": [
    "model=Sequential()"
   ]
  },
  {
   "cell_type": "code",
   "execution_count": 16,
   "metadata": {
    "id": "tnQpvbubfZyW"
   },
   "outputs": [],
   "source": [
    "model.add(LSTM(150, activation='relu', input_shape=(n_input, n_features)))"
   ]
  },
  {
   "cell_type": "code",
   "execution_count": 17,
   "metadata": {
    "id": "F_HCW0shfr5Y"
   },
   "outputs": [],
   "source": [
    "model.add(Dense(1))\n",
    "model.compile(optimizer='adam', loss='mse')"
   ]
  },
  {
   "cell_type": "code",
   "execution_count": 18,
   "metadata": {
    "colab": {
     "base_uri": "https://localhost:8080/"
    },
    "id": "b64Yl4f2f9Yg",
    "outputId": "f5a217ef-da13-4400-8ffb-0fc34303ca65"
   },
   "outputs": [
    {
     "name": "stdout",
     "output_type": "stream",
     "text": [
      "Model: \"sequential\"\n",
      "_________________________________________________________________\n",
      " Layer (type)                Output Shape              Param #   \n",
      "=================================================================\n",
      " lstm (LSTM)                 (None, 150)               91200     \n",
      "                                                                 \n",
      " dense (Dense)               (None, 1)                 151       \n",
      "                                                                 \n",
      "=================================================================\n",
      "Total params: 91,351\n",
      "Trainable params: 91,351\n",
      "Non-trainable params: 0\n",
      "_________________________________________________________________\n"
     ]
    }
   ],
   "source": [
    "model.summary()"
   ]
  },
  {
   "cell_type": "code",
   "execution_count": 19,
   "metadata": {
    "colab": {
     "base_uri": "https://localhost:8080/"
    },
    "id": "sXK_aq5TgEkI",
    "outputId": "e6bee9d9-d6d8-499a-f82d-7b323176f5d4"
   },
   "outputs": [
    {
     "name": "stderr",
     "output_type": "stream",
     "text": [
      "<ipython-input-19-a3356272c98c>:1: UserWarning: `Model.fit_generator` is deprecated and will be removed in a future version. Please use `Model.fit`, which supports generators.\n",
      "  model.fit_generator(generator, epochs=50)\n"
     ]
    },
    {
     "name": "stdout",
     "output_type": "stream",
     "text": [
      "Epoch 1/50\n",
      "608/608 [==============================] - 4s 4ms/step - loss: 0.0071\n",
      "Epoch 2/50\n",
      "608/608 [==============================] - 3s 5ms/step - loss: 0.0050\n",
      "Epoch 3/50\n",
      "608/608 [==============================] - 4s 6ms/step - loss: 0.0042\n",
      "Epoch 4/50\n",
      "608/608 [==============================] - 3s 4ms/step - loss: 0.0045\n",
      "Epoch 5/50\n",
      "608/608 [==============================] - 3s 5ms/step - loss: 0.0043\n",
      "Epoch 6/50\n",
      "608/608 [==============================] - 2s 4ms/step - loss: 0.0040\n",
      "Epoch 7/50\n",
      "608/608 [==============================] - 2s 3ms/step - loss: 0.0043\n",
      "Epoch 8/50\n",
      "608/608 [==============================] - 2s 3ms/step - loss: 0.0042\n",
      "Epoch 9/50\n",
      "608/608 [==============================] - 2s 4ms/step - loss: 0.0043\n",
      "Epoch 10/50\n",
      "608/608 [==============================] - 3s 4ms/step - loss: 0.0043\n",
      "Epoch 11/50\n",
      "608/608 [==============================] - 3s 4ms/step - loss: 0.0040\n",
      "Epoch 12/50\n",
      "608/608 [==============================] - 3s 5ms/step - loss: 0.0040\n",
      "Epoch 13/50\n",
      "608/608 [==============================] - 3s 5ms/step - loss: 0.0042\n",
      "Epoch 14/50\n",
      "608/608 [==============================] - 3s 4ms/step - loss: 0.0043\n",
      "Epoch 15/50\n",
      "608/608 [==============================] - 3s 4ms/step - loss: 0.0041\n",
      "Epoch 16/50\n",
      "608/608 [==============================] - 3s 4ms/step - loss: 0.0040\n",
      "Epoch 17/50\n",
      "608/608 [==============================] - 3s 5ms/step - loss: 0.0041\n",
      "Epoch 18/50\n",
      "608/608 [==============================] - 3s 5ms/step - loss: 0.0039A: 2s - loss: 0\n",
      "Epoch 19/50\n",
      "608/608 [==============================] - 3s 5ms/step - loss: 0.0040\n",
      "Epoch 20/50\n",
      "608/608 [==============================] - 4s 6ms/step - loss: 0.0040\n",
      "Epoch 21/50\n",
      "608/608 [==============================] - 3s 5ms/step - loss: 0.0040\n",
      "Epoch 22/50\n",
      "608/608 [==============================] - 3s 4ms/step - loss: 0.0038\n",
      "Epoch 23/50\n",
      "608/608 [==============================] - 3s 5ms/step - loss: 0.0039\n",
      "Epoch 24/50\n",
      "608/608 [==============================] - 3s 5ms/step - loss: 0.0040\n",
      "Epoch 25/50\n",
      "608/608 [==============================] - 3s 5ms/step - loss: 0.0039\n",
      "Epoch 26/50\n",
      "608/608 [==============================] - 3s 5ms/step - loss: 0.0040\n",
      "Epoch 27/50\n",
      "608/608 [==============================] - 3s 4ms/step - loss: 0.0041\n",
      "Epoch 28/50\n",
      "608/608 [==============================] - 2s 4ms/step - loss: 0.0039\n",
      "Epoch 29/50\n",
      "608/608 [==============================] - 2s 3ms/step - loss: 0.0039\n",
      "Epoch 30/50\n",
      "608/608 [==============================] - 2s 4ms/step - loss: 0.0039\n",
      "Epoch 31/50\n",
      "608/608 [==============================] - 2s 4ms/step - loss: 0.0038\n",
      "Epoch 32/50\n",
      "608/608 [==============================] - 2s 3ms/step - loss: 0.0038\n",
      "Epoch 33/50\n",
      "608/608 [==============================] - 2s 3ms/step - loss: 0.0038\n",
      "Epoch 34/50\n",
      "608/608 [==============================] - 2s 4ms/step - loss: 0.0037\n",
      "Epoch 35/50\n",
      "608/608 [==============================] - 3s 5ms/step - loss: 0.0038\n",
      "Epoch 36/50\n",
      "608/608 [==============================] - 2s 3ms/step - loss: 0.0037\n",
      "Epoch 37/50\n",
      "608/608 [==============================] - 3s 4ms/step - loss: 0.0038\n",
      "Epoch 38/50\n",
      "608/608 [==============================] - 3s 5ms/step - loss: 0.0039\n",
      "Epoch 39/50\n",
      "608/608 [==============================] - 3s 6ms/step - loss: 0.0039\n",
      "Epoch 40/50\n",
      "608/608 [==============================] - 3s 5ms/step - loss: 0.0036\n",
      "Epoch 41/50\n",
      "608/608 [==============================] - 3s 5ms/step - loss: 0.0038\n",
      "Epoch 42/50\n",
      "608/608 [==============================] - 3s 5ms/step - loss: 0.0038\n",
      "Epoch 43/50\n",
      "608/608 [==============================] - 3s 4ms/step - loss: 0.0038\n",
      "Epoch 44/50\n",
      "608/608 [==============================] - 2s 4ms/step - loss: 0.0038\n",
      "Epoch 45/50\n",
      "608/608 [==============================] - 2s 4ms/step - loss: 0.0038\n",
      "Epoch 46/50\n",
      "608/608 [==============================] - 2s 4ms/step - loss: 0.0038\n",
      "Epoch 47/50\n",
      "608/608 [==============================] - 2s 4ms/step - loss: 0.0037\n",
      "Epoch 48/50\n",
      "608/608 [==============================] - 3s 5ms/step - loss: 0.0037\n",
      "Epoch 49/50\n",
      "608/608 [==============================] - 3s 5ms/step - loss: 0.0038\n",
      "Epoch 50/50\n",
      "608/608 [==============================] - 4s 6ms/step - loss: 0.0037\n"
     ]
    },
    {
     "data": {
      "text/plain": [
       "<keras.callbacks.History at 0x1d7bf257100>"
      ]
     },
     "execution_count": 19,
     "metadata": {},
     "output_type": "execute_result"
    }
   ],
   "source": [
    "model.fit_generator(generator, epochs=50)"
   ]
  },
  {
   "cell_type": "code",
   "execution_count": 20,
   "metadata": {
    "colab": {
     "base_uri": "https://localhost:8080/",
     "height": 282
    },
    "id": "JZCvZEeqgQUC",
    "outputId": "d61e055c-980e-4fed-b9f8-c3fb47a7318e"
   },
   "outputs": [
    {
     "data": {
      "text/plain": [
       "[<matplotlib.lines.Line2D at 0x1d7bfba49d0>]"
      ]
     },
     "execution_count": 20,
     "metadata": {},
     "output_type": "execute_result"
    },
    {
     "data": {
      "image/png": "[encoded data removed]",
      "text/plain": [
       "<Figure size 432x288 with 1 Axes>"
      ]
     },
     "metadata": {
      "needs_background": "light"
     },
     "output_type": "display_data"
    }
   ],
   "source": [
    "los_per_epoch=model.history.history['loss']\n",
    "plt.plot(range(len(los_per_epoch)),los_per_epoch)"
   ]
  },
  {
   "cell_type": "code",
   "execution_count": 21,
   "metadata": {
    "colab": {
     "base_uri": "https://localhost:8080/"
    },
    "id": "sjIw5gkhhETP",
    "outputId": "40d594f6-c80f-4b26-bffd-5857b3f00688"
   },
   "outputs": [
    {
     "data": {
      "text/plain": [
       "array([[0.90468563],\n",
       "       [0.82007643],\n",
       "       [1.        ],\n",
       "       [0.78810218],\n",
       "       [0.81572799],\n",
       "       [0.78683852],\n",
       "       [0.97492114]])"
      ]
     },
     "execution_count": 21,
     "metadata": {},
     "output_type": "execute_result"
    }
   ],
   "source": [
    "first_eval_batch=scaled_train[-7:]\n",
    "first_eval_batch"
   ]
  },
  {
   "cell_type": "code",
   "execution_count": 22,
   "metadata": {
    "id": "bCfRZz0LhdPS"
   },
   "outputs": [],
   "source": [
    "first_eval_batch=first_eval_batch.reshape((1, n_input,n_features))"
   ]
  },
  {
   "cell_type": "code",
   "execution_count": 23,
   "metadata": {
    "colab": {
     "base_uri": "https://localhost:8080/"
    },
    "id": "yymK8BhJh0yE",
    "outputId": "92863c72-c3e4-4fb7-8645-2de9dfd7c0a5"
   },
   "outputs": [
    {
     "data": {
      "text/plain": [
       "array([[[0.90468563],\n",
       "        [0.82007643],\n",
       "        [1.        ],\n",
       "        [0.78810218],\n",
       "        [0.81572799],\n",
       "        [0.78683852],\n",
       "        [0.97492114]]])"
      ]
     },
     "execution_count": 23,
     "metadata": {},
     "output_type": "execute_result"
    }
   ],
   "source": [
    "first_eval_batch"
   ]
  },
  {
   "cell_type": "code",
   "execution_count": 24,
   "metadata": {
    "colab": {
     "base_uri": "https://localhost:8080/"
    },
    "id": "KhOjK9oWh2yN",
    "outputId": "3a7f5dfb-460f-4f76-c144-853e8cbf0269"
   },
   "outputs": [
    {
     "data": {
      "text/plain": [
       "array([[0.87627494]], dtype=float32)"
      ]
     },
     "execution_count": 24,
     "metadata": {},
     "output_type": "execute_result"
    }
   ],
   "source": [
    "model.predict(first_eval_batch)"
   ]
  },
  {
   "cell_type": "code",
   "execution_count": 25,
   "metadata": {
    "id": "pGkbbnlOiBen"
   },
   "outputs": [],
   "source": [
    "test_predictions=[]"
   ]
  },
  {
   "cell_type": "code",
   "execution_count": 26,
   "metadata": {
    "id": "37Y1G2EqifTk"
   },
   "outputs": [],
   "source": [
    "first_eval_batch=scaled_train[-n_input:]\n",
    "current_batch=first_eval_batch.reshape((1, n_input, n_features))"
   ]
  },
  {
   "cell_type": "code",
   "execution_count": 27,
   "metadata": {
    "id": "qJvTYkLxi0qf"
   },
   "outputs": [],
   "source": [
    "for i in range(len(test)):\n",
    "  current_pred=model.predict(current_batch)[0]\n",
    "  test_predictions.append(current_pred)\n",
    "  current_batch=np.append(current_batch[:, 1:, :],[[current_pred]], axis=1)"
   ]
  },
  {
   "cell_type": "code",
   "execution_count": 28,
   "metadata": {
    "colab": {
     "base_uri": "https://localhost:8080/"
    },
    "id": "XOU3tivrjo5t",
    "outputId": "d564ddc3-2cc8-4df2-c0bc-cdf799869292"
   },
   "outputs": [
    {
     "data": {
      "text/plain": [
       "30"
      ]
     },
     "execution_count": 28,
     "metadata": {},
     "output_type": "execute_result"
    }
   ],
   "source": [
    "len(test_predictions)"
   ]
  },
  {
   "cell_type": "code",
   "execution_count": 29,
   "metadata": {
    "id": "twdax6N_kPzI"
   },
   "outputs": [],
   "source": [
    "true_predictions=scaler.inverse_transform(test_predictions)"
   ]
  },
  {
   "cell_type": "code",
   "execution_count": 30,
   "metadata": {
    "colab": {
     "base_uri": "https://localhost:8080/",
     "height": 457
    },
    "id": "yRhSa9CWkfDP",
    "outputId": "0518b8e6-72ee-439b-d720-1f6f91321372"
   },
   "outputs": [
    {
     "data": {
      "text/html": [
       "<div>\n",
       "<style scoped>\n",
       "    .dataframe tbody tr th:only-of-type {\n",
       "        vertical-align: middle;\n",
       "    }\n",
       "\n",
       "    .dataframe tbody tr th {\n",
       "        vertical-align: top;\n",
       "    }\n",
       "\n",
       "    .dataframe thead th {\n",
       "        text-align: right;\n",
       "    }\n",
       "</style>\n",
       "<table border=\"1\" class=\"dataframe\">\n",
       "  <thead>\n",
       "    <tr style=\"text-align: right;\">\n",
       "      <th></th>\n",
       "      <th>Price_USD</th>\n",
       "    </tr>\n",
       "    <tr>\n",
       "      <th>Date</th>\n",
       "      <th></th>\n",
       "    </tr>\n",
       "  </thead>\n",
       "  <tbody>\n",
       "    <tr>\n",
       "      <th>2018-02-15</th>\n",
       "      <td>688.793751</td>\n",
       "    </tr>\n",
       "    <tr>\n",
       "      <th>2018-02-16</th>\n",
       "      <td>752.847622</td>\n",
       "    </tr>\n",
       "    <tr>\n",
       "      <th>2018-02-17</th>\n",
       "      <td>711.587232</td>\n",
       "    </tr>\n",
       "    <tr>\n",
       "      <th>2018-02-18</th>\n",
       "      <td>762.001425</td>\n",
       "    </tr>\n",
       "    <tr>\n",
       "      <th>2018-02-19</th>\n",
       "      <td>717.255592</td>\n",
       "    </tr>\n",
       "    <tr>\n",
       "      <th>2018-02-20</th>\n",
       "      <td>705.445658</td>\n",
       "    </tr>\n",
       "    <tr>\n",
       "      <th>2018-02-21</th>\n",
       "      <td>696.508054</td>\n",
       "    </tr>\n",
       "    <tr>\n",
       "      <th>2018-02-22</th>\n",
       "      <td>717.925865</td>\n",
       "    </tr>\n",
       "    <tr>\n",
       "      <th>2018-02-23</th>\n",
       "      <td>710.544781</td>\n",
       "    </tr>\n",
       "    <tr>\n",
       "      <th>2018-02-24</th>\n",
       "      <td>682.537434</td>\n",
       "    </tr>\n",
       "    <tr>\n",
       "      <th>2018-02-25</th>\n",
       "      <td>718.691234</td>\n",
       "    </tr>\n",
       "    <tr>\n",
       "      <th>2018-02-26</th>\n",
       "      <td>736.690004</td>\n",
       "    </tr>\n",
       "    <tr>\n",
       "      <th>2018-02-27</th>\n",
       "      <td>737.324536</td>\n",
       "    </tr>\n",
       "    <tr>\n",
       "      <th>2018-02-28</th>\n",
       "      <td>683.578878</td>\n",
       "    </tr>\n",
       "    <tr>\n",
       "      <th>2018-03-01</th>\n",
       "      <td>720.579651</td>\n",
       "    </tr>\n",
       "    <tr>\n",
       "      <th>2018-03-02</th>\n",
       "      <td>706.204935</td>\n",
       "    </tr>\n",
       "    <tr>\n",
       "      <th>2018-03-03</th>\n",
       "      <td>734.341939</td>\n",
       "    </tr>\n",
       "    <tr>\n",
       "      <th>2018-03-04</th>\n",
       "      <td>707.794025</td>\n",
       "    </tr>\n",
       "    <tr>\n",
       "      <th>2018-03-05</th>\n",
       "      <td>714.463463</td>\n",
       "    </tr>\n",
       "    <tr>\n",
       "      <th>2018-03-06</th>\n",
       "      <td>761.595543</td>\n",
       "    </tr>\n",
       "    <tr>\n",
       "      <th>2018-03-07</th>\n",
       "      <td>757.150923</td>\n",
       "    </tr>\n",
       "    <tr>\n",
       "      <th>2018-03-08</th>\n",
       "      <td>726.444941</td>\n",
       "    </tr>\n",
       "    <tr>\n",
       "      <th>2018-03-09</th>\n",
       "      <td>727.039327</td>\n",
       "    </tr>\n",
       "    <tr>\n",
       "      <th>2018-03-10</th>\n",
       "      <td>711.345939</td>\n",
       "    </tr>\n",
       "    <tr>\n",
       "      <th>2018-03-11</th>\n",
       "      <td>701.796917</td>\n",
       "    </tr>\n",
       "    <tr>\n",
       "      <th>2018-03-12</th>\n",
       "      <td>702.369894</td>\n",
       "    </tr>\n",
       "    <tr>\n",
       "      <th>2018-03-13</th>\n",
       "      <td>798.584469</td>\n",
       "    </tr>\n",
       "    <tr>\n",
       "      <th>2018-03-14</th>\n",
       "      <td>727.225543</td>\n",
       "    </tr>\n",
       "    <tr>\n",
       "      <th>2018-03-15</th>\n",
       "      <td>716.701458</td>\n",
       "    </tr>\n",
       "    <tr>\n",
       "      <th>2018-03-16</th>\n",
       "      <td>715.111821</td>\n",
       "    </tr>\n",
       "  </tbody>\n",
       "</table>\n",
       "</div>"
      ],
      "text/plain": [
       "             Price_USD\n",
       "Date                  \n",
       "2018-02-15  688.793751\n",
       "2018-02-16  752.847622\n",
       "2018-02-17  711.587232\n",
       "2018-02-18  762.001425\n",
       "2018-02-19  717.255592\n",
       "2018-02-20  705.445658\n",
       "2018-02-21  696.508054\n",
       "2018-02-22  717.925865\n",
       "2018-02-23  710.544781\n",
       "2018-02-24  682.537434\n",
       "2018-02-25  718.691234\n",
       "2018-02-26  736.690004\n",
       "2018-02-27  737.324536\n",
       "2018-02-28  683.578878\n",
       "2018-03-01  720.579651\n",
       "2018-03-02  706.204935\n",
       "2018-03-03  734.341939\n",
       "2018-03-04  707.794025\n",
       "2018-03-05  714.463463\n",
       "2018-03-06  761.595543\n",
       "2018-03-07  757.150923\n",
       "2018-03-08  726.444941\n",
       "2018-03-09  727.039327\n",
       "2018-03-10  711.345939\n",
       "2018-03-11  701.796917\n",
       "2018-03-12  702.369894\n",
       "2018-03-13  798.584469\n",
       "2018-03-14  727.225543\n",
       "2018-03-15  716.701458\n",
       "2018-03-16  715.111821"
      ]
     },
     "execution_count": 30,
     "metadata": {},
     "output_type": "execute_result"
    }
   ],
   "source": [
    "test"
   ]
  },
  {
   "cell_type": "code",
   "execution_count": 31,
   "metadata": {
    "colab": {
     "base_uri": "https://localhost:8080/"
    },
    "id": "5dNMRbi_kg06",
    "outputId": "6e61efc3-da83-40d2-ad22-afecee5d82a7"
   },
   "outputs": [
    {
     "name": "stderr",
     "output_type": "stream",
     "text": [
      "<ipython-input-31-fa6c3af7c69f>:1: SettingWithCopyWarning: \n",
      "A value is trying to be set on a copy of a slice from a DataFrame.\n",
      "Try using .loc[row_indexer,col_indexer] = value instead\n",
      "\n",
      "See the caveats in the documentation: https://pandas.pydata.org/pandas-docs/stable/user_guide/indexing.html#returning-a-view-versus-a-copy\n",
      "  test['predictions'] = true_predictions\n"
     ]
    }
   ],
   "source": [
    "test['predictions'] = true_predictions"
   ]
  },
  {
   "cell_type": "code",
   "execution_count": 32,
   "metadata": {
    "colab": {
     "base_uri": "https://localhost:8080/",
     "height": 525
    },
    "id": "C5t1bO6dksdj",
    "outputId": "e76fb5cb-1dca-4397-af4b-30547244137e"
   },
   "outputs": [
    {
     "data": {
      "text/plain": [
       "<AxesSubplot:xlabel='Date'>"
      ]
     },
     "execution_count": 32,
     "metadata": {},
     "output_type": "execute_result"
    },
    {
     "data": {
      "image/png": "[encoded data removed]",
      "text/plain": [
       "<Figure size 864x576 with 1 Axes>"
      ]
     },
     "metadata": {
      "needs_background": "light"
     },
     "output_type": "display_data"
    }
   ],
   "source": [
    "test.plot(figsize=(12,8))"
   ]
  },
  {
   "cell_type": "code",
   "execution_count": 33,
   "metadata": {
    "id": "CBY2e7jxk_x_"
   },
   "outputs": [],
   "source": [
    "def mean_absolute_percentage_error(y_true, y_pred): \n",
    "    return np.mean(np.abs((y_true - y_pred) / y_true))\n"
   ]
  },
  {
   "cell_type": "code",
   "execution_count": 34,
   "metadata": {},
   "outputs": [
    {
     "data": {
      "text/plain": [
       "0.08717751491947087"
      ]
     },
     "execution_count": 34,
     "metadata": {},
     "output_type": "execute_result"
    }
   ],
   "source": [
    "mean_absolute_percentage_error(test['Price_USD'], test['predictions'])"
   ]
  }
 ],
 "metadata": {
  "colab": {
   "collapsed_sections": [],
   "name": "lecture12.ipynb",
   "provenance": []
  },
  "kernelspec": {
   "display_name": "Python 3 (ipykernel)",
   "language": "python",
   "name": "python3"
  },
  "language_info": {
   "codemirror_mode": {
    "name": "ipython",
    "version": 3
   },
   "file_extension": ".py",
   "mimetype": "text/x-python",
   "name": "python",
   "nbconvert_exporter": "python",
   "pygments_lexer": "ipython3",
   "version": "3.8.10"
  }
 },
 "nbformat": 4,
 "nbformat_minor": 1
}
